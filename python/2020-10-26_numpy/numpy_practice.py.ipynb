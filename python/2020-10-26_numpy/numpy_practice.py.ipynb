{
 "cells": [
  {
   "cell_type": "code",
   "execution_count": 4,
   "metadata": {},
   "outputs": [
    {
     "name": "stdout",
     "output_type": "stream",
     "text": [
      "[5 7 9]\n",
      "[-3 -3 -3]\n",
      "[ 4 10 18]\n",
      "[0.25 0.4  0.5 ]\n",
      "[2 4 6]\n",
      "[1 4 9]\n"
     ]
    }
   ],
   "source": [
    "import numpy as np\n",
    "\n",
    "\n",
    "\n",
    "arr1 = np.array([1,2,3])\n",
    "arr2 = np.array([4,5,6])\n",
    "\n",
    "\n",
    "print(arr1 + arr2) #각 원소끼리 더한 결과\n",
    "print(arr1 - arr2) #각 원소끼리 뺀 결과\n",
    "print(arr1 * arr2) #각 원소끼리 곱한 결과\n",
    "print(arr1 / arr2) #각 원소끼리 나눈 결과\n",
    "print(arr1 * 2) #arr1 각 원소에 2를 곱한결과\n",
    "print(arr1 ** 2) #arr1 각 원소에 2제곱한 결과\n"
   ]
  },
  {
   "cell_type": "markdown",
   "metadata": {},
   "source": [
    "### 통계를 위한 연산"
   ]
  },
  {
   "cell_type": "code",
   "execution_count": 9,
   "metadata": {},
   "outputs": [
    {
     "name": "stdout",
     "output_type": "stream",
     "text": [
      "[0 1 2 3 4]\n",
      "합: 10 평균: 2.0\n",
      "표준편차: 1.4142135623730951 분산: 2.0\n",
      "min: 0 max: 4\n"
     ]
    }
   ],
   "source": [
    "arr3 = np.arange(5)\n",
    "sum = arr3.sum()\n",
    "mean = arr3.mean()\n",
    "std = arr3.std()\n",
    "var = arr3.var()\n",
    "\n",
    "print(arr3)\n",
    "print(f'합: {sum} 평균: {mean}')\n",
    "print(f'표준편차: {std} 분산: {var}')\n",
    "print(f'min: {arr3.min()} max: {arr3.max()}')"
   ]
  },
  {
   "cell_type": "code",
   "execution_count": 11,
   "metadata": {},
   "outputs": [
    {
     "name": "stdout",
     "output_type": "stream",
     "text": [
      "[ 1  3  6 10]\n",
      "[ 1  2  6 24]\n"
     ]
    }
   ],
   "source": [
    "arr4 = np.arange(1, 5)\n",
    "\n",
    "# 누적합\n",
    "print(arr4.cumsum())\n",
    "# 누적곱\n",
    "print(arr4.cumprod())"
   ]
  },
  {
   "cell_type": "markdown",
   "metadata": {},
   "source": [
    "### 행렬연산\n",
    "- 선형대수를 위한 2차원 행렬 연산도 지원함"
   ]
  },
  {
   "cell_type": "code",
   "execution_count": 20,
   "metadata": {},
   "outputs": [
    {
     "ename": "IndentationError",
     "evalue": "unexpected indent (<ipython-input-20-f734543c394c>, line 20)",
     "output_type": "error",
     "traceback": [
      "\u001b[1;36m  File \u001b[1;32m\"<ipython-input-20-f734543c394c>\"\u001b[1;36m, line \u001b[1;32m20\u001b[0m\n\u001b[1;33m    f # 행렬식\u001b[0m\n\u001b[1;37m    ^\u001b[0m\n\u001b[1;31mIndentationError\u001b[0m\u001b[1;31m:\u001b[0m unexpected indent\n"
     ]
    }
   ],
   "source": [
    "A = np.arange(1,5).reshape(2, 2)\n",
    "B = np.arange(1,5).reshape(2, 2)\n",
    "print(A)\n",
    "\n",
    "# 행렬곱\n",
    "print('')\n",
    "print('A.dot(B)')\n",
    "print(A.dot(B))\n",
    "# 전치행렬\n",
    "print('')\n",
    "print('np.transpose(A)')\n",
    "print(np.transpose(A))\n",
    "\n",
    "# 역행렬\n",
    "print('')\n",
    "print('np.linalg.inv(A)')\n",
    "print(np.linalg.inv(A))\n",
    "\n",
    "\n",
    " f # 행렬식\n",
    "print('')\n",
    "print('np.linalg.det(A)')\n",
    "print(np.linalg.det(A))\n",
    "\n"
   ]
  },
  {
   "cell_type": "markdown",
   "metadata": {},
   "source": [
    "### 배열의 슬라이싱"
   ]
  },
  {
   "cell_type": "code",
   "execution_count": 27,
   "metadata": {},
   "outputs": [
    {
     "name": "stdout",
     "output_type": "stream",
     "text": [
      "arr4[0]: 0\n",
      "arr4[[1,2]]: [10 20]\n"
     ]
    }
   ],
   "source": [
    "arr4 = np.array([0, 10, 20])\n",
    "print(f'arr4[0]: {arr4[0]}')\n",
    "print(f'arr4[[1,2]]: {arr4[[1,2]]}')"
   ]
  },
  {
   "cell_type": "code",
   "execution_count": 38,
   "metadata": {},
   "outputs": [
    {
     "name": "stdout",
     "output_type": "stream",
     "text": [
      "arr5: [[10 20 30]\n",
      " [40 50 60]\n",
      " [70 80 90]]\n",
      "arr5[1,2]: 60\n",
      "arr5[[0,0], [1,2]]: [20 30]\n"
     ]
    }
   ],
   "source": [
    "arr5 = np.arange(10, 100, 10).reshape(3,3)\n",
    "print(f'arr5: {arr5}')\n",
    "print(f'arr5[1,2]: {arr5[1,2]}')\n",
    "print(f'arr5[[0,0], [1,2]]: {arr5[[0,0], [1,2]]}')"
   ]
  },
  {
   "cell_type": "markdown",
   "metadata": {},
   "source": [
    "### 배열 필터링"
   ]
  },
  {
   "cell_type": "code",
   "execution_count": 51,
   "metadata": {},
   "outputs": [
    {
     "name": "stdout",
     "output_type": "stream",
     "text": [
      "arr5[arr5 > 50]: [60 70 80 90]\n"
     ]
    }
   ],
   "source": [
    "print(f'arr5[arr5 > 50]: {arr5[arr5 > 50]}')\n"
   ]
  },
  {
   "cell_type": "markdown",
   "metadata": {},
   "source": [
    "### 배열 수정"
   ]
  },
  {
   "cell_type": "code",
   "execution_count": 57,
   "metadata": {},
   "outputs": [
    {
     "name": "stdout",
     "output_type": "stream",
     "text": [
      "[ 1  2  3  4  5  6  7  8  9 10]\n",
      "b1[2:5] 수정하기: [ 1  2 20 20 20  6  7  8  9 10]\n"
     ]
    }
   ],
   "source": [
    "b1 = np.arange(1,11)\n",
    "print(b1)\n",
    "b1[2:5] = '20'\n",
    "print(f'b1[2:5] 수정하기: {b1}')\n"
   ]
  },
  {
   "cell_type": "markdown",
   "metadata": {},
   "source": [
    "### 2차원 배열 수정 "
   ]
  },
  {
   "cell_type": "code",
   "execution_count": 62,
   "metadata": {},
   "outputs": [
    {
     "name": "stdout",
     "output_type": "stream",
     "text": [
      "[[10 20 30]\n",
      " [40 50 60]\n",
      " [70 80 90]]\n",
      "b2[1:3, 1:3]: [[50 60]\n",
      " [80 90]]\n",
      "b2[:3, 1:]: [[20 30]\n",
      " [50 60]\n",
      " [80 90]]\n"
     ]
    }
   ],
   "source": [
    "b2 = np.arange(10, 100, 10).reshape(3,3)\n",
    "print(b2)\n",
    "\n",
    "\n",
    "print(f'b2[1:3, 1:3]: {b2[1:3, 1:3]}')\n",
    "print(f'b2[:3, 1:]: {b2[:3, 1:]}')\n"
   ]
  },
  {
   "cell_type": "code",
   "execution_count": null,
   "metadata": {},
   "outputs": [],
   "source": []
  }
 ],
 "metadata": {
  "kernelspec": {
   "display_name": "Python 3",
   "language": "python",
   "name": "python3"
  },
  "language_info": {
   "codemirror_mode": {
    "name": "ipython",
    "version": 3
   },
   "file_extension": ".py",
   "mimetype": "text/x-python",
   "name": "python",
   "nbconvert_exporter": "python",
   "pygments_lexer": "ipython3",
   "version": "3.8.3"
  }
 },
 "nbformat": 4,
 "nbformat_minor": 4
}
