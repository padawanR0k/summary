{
 "cells": [
  {
   "source": [
    "# 웹 스크래핑\n",
    "\n",
    "- 브라우저의 주소창에 URL을 입력하고 이동하면, 브라우저(client)는 해당 URL에 요청(request)를  서버(server)에게 보내게 된다. 해당 요청에 대한 부분을 서버가 HTTP 프로토콜 형식으로 응답(response)해 해당 URL에 해당하는 자원을 반환해준다.\n",
    "- 반환된 파일에 따라 사용자는 미디어 파일이나, 웹사이트등을 볼 수 있게 된다.\n",
    "- 웹스크래핑의 경우 `.html`로 이루어진 response에서 본인이 필요한 정보만 필터링하여 저장하는 행위를 뜻한다. \n",
    "\n"
   ],
   "cell_type": "markdown",
   "metadata": {}
  },
  {
   "cell_type": "code",
   "execution_count": 3,
   "metadata": {},
   "outputs": [],
   "source": [
    "import webbrowser as wb\n",
    "\n",
    "url = 'naver.com'\n",
    "\n",
    "def get_page(keyword):\n",
    "    wb.open(url + '?query=' + keyword)"
   ]
  },
  {
   "cell_type": "code",
   "execution_count": 4,
   "metadata": {},
   "outputs": [],
   "source": [
    "get_page('네이버')"
   ]
  },
  {
   "source": [
    "## URL Request "
   ],
   "cell_type": "markdown",
   "metadata": {}
  },
  {
   "cell_type": "code",
   "execution_count": 192,
   "metadata": {},
   "outputs": [],
   "source": [
    "import requests\n",
    "\n",
    "\n",
    "def get(url):\n",
    "    res = requests.get(url)\n",
    "    return res.content\n",
    "\n",
    "# get('https://naver.com')"
   ]
  },
  {
   "source": [
    "### BeautifulSoup\n",
    "# BeautifulSoup\n",
    "html 소스코드로 부터 원하는 데이터를 추출해보자"
   ],
   "cell_type": "markdown",
   "metadata": {}
  },
  {
   "cell_type": "code",
   "execution_count": 193,
   "metadata": {},
   "outputs": [
    {
     "output_type": "stream",
     "name": "stdout",
     "text": [
      "Naver_crawler inited\n",
      "<Response [200]>\n",
      "<Response [200]>\n",
      "에이피티씨의 현재 주가 차트\n"
     ]
    },
    {
     "output_type": "display_data",
     "data": {
      "text/plain": "<Figure size 432x288 with 1 Axes>",
      "image/svg+xml": "<?xml version=\"1.0\" encoding=\"utf-8\" standalone=\"no\"?>\r\n<!DOCTYPE svg PUBLIC \"-//W3C//DTD SVG 1.1//EN\"\r\n  \"http://www.w3.org/Graphics/SVG/1.1/DTD/svg11.dtd\">\r\n<!-- Created with matplotlib (https://matplotlib.org/) -->\r\n<svg height=\"172.862772pt\" version=\"1.1\" viewBox=\"0 0 375.2875 172.862772\" width=\"375.2875pt\" xmlns=\"http://www.w3.org/2000/svg\" xmlns:xlink=\"http://www.w3.org/1999/xlink\">\r\n <defs>\r\n  <style type=\"text/css\">\r\n*{stroke-linecap:butt;stroke-linejoin:round;}\r\n  </style>\r\n </defs>\r\n <g id=\"figure_1\">\r\n  <g id=\"patch_1\">\r\n   <path d=\"M 0 172.862772 \r\nL 375.2875 172.862772 \r\nL 375.2875 0 \r\nL 0 0 \r\nz\r\n\" style=\"fill:none;\"/>\r\n  </g>\r\n  <g id=\"axes_1\">\r\n   <g id=\"patch_2\">\r\n    <path d=\"M 33.2875 148.984647 \r\nL 368.0875 148.984647 \r\nL 368.0875 10.760076 \r\nL 33.2875 10.760076 \r\nz\r\n\" style=\"fill:#ffffff;\"/>\r\n   </g>\r\n   <g clip-path=\"url(#p3033e07ba3)\">\r\n    <image height=\"139\" id=\"imaged5605782b5\" transform=\"scale(1 -1)translate(0 -139)\" width=\"335\" x=\"33.2875\" xlink:href=\"data:image/png;base64,\r\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\" y=\"-9.984647\"/>\r\n   </g>\r\n   <g id=\"matplotlib.axis_1\">\r\n    <g id=\"xtick_1\">\r\n     <g id=\"line2d_1\">\r\n      <defs>\r\n       <path d=\"M 0 0 \r\nL 0 3.5 \r\n\" id=\"me66162f89a\" style=\"stroke:#000000;stroke-width:0.8;\"/>\r\n      </defs>\r\n      <g>\r\n       <use style=\"stroke:#000000;stroke-width:0.8;\" x=\"33.526643\" xlink:href=\"#me66162f89a\" y=\"148.984647\"/>\r\n      </g>\r\n     </g>\r\n     <g id=\"text_1\">\r\n      <!-- 0 -->\r\n      <defs>\r\n       <path d=\"M 31.78125 66.40625 \r\nQ 24.171875 66.40625 20.328125 58.90625 \r\nQ 16.5 51.421875 16.5 36.375 \r\nQ 16.5 21.390625 20.328125 13.890625 \r\nQ 24.171875 6.390625 31.78125 6.390625 \r\nQ 39.453125 6.390625 43.28125 13.890625 \r\nQ 47.125 21.390625 47.125 36.375 \r\nQ 47.125 51.421875 43.28125 58.90625 \r\nQ 39.453125 66.40625 31.78125 66.40625 \r\nz\r\nM 31.78125 74.21875 \r\nQ 44.046875 74.21875 50.515625 64.515625 \r\nQ 56.984375 54.828125 56.984375 36.375 \r\nQ 56.984375 17.96875 50.515625 8.265625 \r\nQ 44.046875 -1.421875 31.78125 -1.421875 \r\nQ 19.53125 -1.421875 13.0625 8.265625 \r\nQ 6.59375 17.96875 6.59375 36.375 \r\nQ 6.59375 54.828125 13.0625 64.515625 \r\nQ 19.53125 74.21875 31.78125 74.21875 \r\nz\r\n\" id=\"DejaVuSans-48\"/>\r\n      </defs>\r\n      <g transform=\"translate(30.345393 163.583085)scale(0.1 -0.1)\">\r\n       <use xlink:href=\"#DejaVuSans-48\"/>\r\n      </g>\r\n     </g>\r\n    </g>\r\n    <g id=\"xtick_2\">\r\n     <g id=\"line2d_2\">\r\n      <g>\r\n       <use style=\"stroke:#000000;stroke-width:0.8;\" x=\"81.355214\" xlink:href=\"#me66162f89a\" y=\"148.984647\"/>\r\n      </g>\r\n     </g>\r\n     <g id=\"text_2\">\r\n      <!-- 100 -->\r\n      <defs>\r\n       <path d=\"M 12.40625 8.296875 \r\nL 28.515625 8.296875 \r\nL 28.515625 63.921875 \r\nL 10.984375 60.40625 \r\nL 10.984375 69.390625 \r\nL 28.421875 72.90625 \r\nL 38.28125 72.90625 \r\nL 38.28125 8.296875 \r\nL 54.390625 8.296875 \r\nL 54.390625 0 \r\nL 12.40625 0 \r\nz\r\n\" id=\"DejaVuSans-49\"/>\r\n      </defs>\r\n      <g transform=\"translate(71.811464 163.583085)scale(0.1 -0.1)\">\r\n       <use xlink:href=\"#DejaVuSans-49\"/>\r\n       <use x=\"63.623047\" xlink:href=\"#DejaVuSans-48\"/>\r\n       <use x=\"127.246094\" xlink:href=\"#DejaVuSans-48\"/>\r\n      </g>\r\n     </g>\r\n    </g>\r\n    <g id=\"xtick_3\">\r\n     <g id=\"line2d_3\">\r\n      <g>\r\n       <use style=\"stroke:#000000;stroke-width:0.8;\" x=\"129.183786\" xlink:href=\"#me66162f89a\" y=\"148.984647\"/>\r\n      </g>\r\n     </g>\r\n     <g id=\"text_3\">\r\n      <!-- 200 -->\r\n      <defs>\r\n       <path d=\"M 19.1875 8.296875 \r\nL 53.609375 8.296875 \r\nL 53.609375 0 \r\nL 7.328125 0 \r\nL 7.328125 8.296875 \r\nQ 12.9375 14.109375 22.625 23.890625 \r\nQ 32.328125 33.6875 34.8125 36.53125 \r\nQ 39.546875 41.84375 41.421875 45.53125 \r\nQ 43.3125 49.21875 43.3125 52.78125 \r\nQ 43.3125 58.59375 39.234375 62.25 \r\nQ 35.15625 65.921875 28.609375 65.921875 \r\nQ 23.96875 65.921875 18.8125 64.3125 \r\nQ 13.671875 62.703125 7.8125 59.421875 \r\nL 7.8125 69.390625 \r\nQ 13.765625 71.78125 18.9375 73 \r\nQ 24.125 74.21875 28.421875 74.21875 \r\nQ 39.75 74.21875 46.484375 68.546875 \r\nQ 53.21875 62.890625 53.21875 53.421875 \r\nQ 53.21875 48.921875 51.53125 44.890625 \r\nQ 49.859375 40.875 45.40625 35.40625 \r\nQ 44.1875 33.984375 37.640625 27.21875 \r\nQ 31.109375 20.453125 19.1875 8.296875 \r\nz\r\n\" id=\"DejaVuSans-50\"/>\r\n      </defs>\r\n      <g transform=\"translate(119.640036 163.583085)scale(0.1 -0.1)\">\r\n       <use xlink:href=\"#DejaVuSans-50\"/>\r\n       <use x=\"63.623047\" xlink:href=\"#DejaVuSans-48\"/>\r\n       <use x=\"127.246094\" xlink:href=\"#DejaVuSans-48\"/>\r\n      </g>\r\n     </g>\r\n    </g>\r\n    <g id=\"xtick_4\">\r\n     <g id=\"line2d_4\">\r\n      <g>\r\n       <use style=\"stroke:#000000;stroke-width:0.8;\" x=\"177.012357\" xlink:href=\"#me66162f89a\" y=\"148.984647\"/>\r\n      </g>\r\n     </g>\r\n     <g id=\"text_4\">\r\n      <!-- 300 -->\r\n      <defs>\r\n       <path d=\"M 40.578125 39.3125 \r\nQ 47.65625 37.796875 51.625 33 \r\nQ 55.609375 28.21875 55.609375 21.1875 \r\nQ 55.609375 10.40625 48.1875 4.484375 \r\nQ 40.765625 -1.421875 27.09375 -1.421875 \r\nQ 22.515625 -1.421875 17.65625 -0.515625 \r\nQ 12.796875 0.390625 7.625 2.203125 \r\nL 7.625 11.71875 \r\nQ 11.71875 9.328125 16.59375 8.109375 \r\nQ 21.484375 6.890625 26.8125 6.890625 \r\nQ 36.078125 6.890625 40.9375 10.546875 \r\nQ 45.796875 14.203125 45.796875 21.1875 \r\nQ 45.796875 27.640625 41.28125 31.265625 \r\nQ 36.765625 34.90625 28.71875 34.90625 \r\nL 20.21875 34.90625 \r\nL 20.21875 43.015625 \r\nL 29.109375 43.015625 \r\nQ 36.375 43.015625 40.234375 45.921875 \r\nQ 44.09375 48.828125 44.09375 54.296875 \r\nQ 44.09375 59.90625 40.109375 62.90625 \r\nQ 36.140625 65.921875 28.71875 65.921875 \r\nQ 24.65625 65.921875 20.015625 65.03125 \r\nQ 15.375 64.15625 9.8125 62.3125 \r\nL 9.8125 71.09375 \r\nQ 15.4375 72.65625 20.34375 73.4375 \r\nQ 25.25 74.21875 29.59375 74.21875 \r\nQ 40.828125 74.21875 47.359375 69.109375 \r\nQ 53.90625 64.015625 53.90625 55.328125 \r\nQ 53.90625 49.265625 50.4375 45.09375 \r\nQ 46.96875 40.921875 40.578125 39.3125 \r\nz\r\n\" id=\"DejaVuSans-51\"/>\r\n      </defs>\r\n      <g transform=\"translate(167.468607 163.583085)scale(0.1 -0.1)\">\r\n       <use xlink:href=\"#DejaVuSans-51\"/>\r\n       <use x=\"63.623047\" xlink:href=\"#DejaVuSans-48\"/>\r\n       <use x=\"127.246094\" xlink:href=\"#DejaVuSans-48\"/>\r\n      </g>\r\n     </g>\r\n    </g>\r\n    <g id=\"xtick_5\">\r\n     <g id=\"line2d_5\">\r\n      <g>\r\n       <use style=\"stroke:#000000;stroke-width:0.8;\" x=\"224.840929\" xlink:href=\"#me66162f89a\" y=\"148.984647\"/>\r\n      </g>\r\n     </g>\r\n     <g id=\"text_5\">\r\n      <!-- 400 -->\r\n      <defs>\r\n       <path d=\"M 37.796875 64.3125 \r\nL 12.890625 25.390625 \r\nL 37.796875 25.390625 \r\nz\r\nM 35.203125 72.90625 \r\nL 47.609375 72.90625 \r\nL 47.609375 25.390625 \r\nL 58.015625 25.390625 \r\nL 58.015625 17.1875 \r\nL 47.609375 17.1875 \r\nL 47.609375 0 \r\nL 37.796875 0 \r\nL 37.796875 17.1875 \r\nL 4.890625 17.1875 \r\nL 4.890625 26.703125 \r\nz\r\n\" id=\"DejaVuSans-52\"/>\r\n      </defs>\r\n      <g transform=\"translate(215.297179 163.583085)scale(0.1 -0.1)\">\r\n       <use xlink:href=\"#DejaVuSans-52\"/>\r\n       <use x=\"63.623047\" xlink:href=\"#DejaVuSans-48\"/>\r\n       <use x=\"127.246094\" xlink:href=\"#DejaVuSans-48\"/>\r\n      </g>\r\n     </g>\r\n    </g>\r\n    <g id=\"xtick_6\">\r\n     <g id=\"line2d_6\">\r\n      <g>\r\n       <use style=\"stroke:#000000;stroke-width:0.8;\" x=\"272.6695\" xlink:href=\"#me66162f89a\" y=\"148.984647\"/>\r\n      </g>\r\n     </g>\r\n     <g id=\"text_6\">\r\n      <!-- 500 -->\r\n      <defs>\r\n       <path d=\"M 10.796875 72.90625 \r\nL 49.515625 72.90625 \r\nL 49.515625 64.59375 \r\nL 19.828125 64.59375 \r\nL 19.828125 46.734375 \r\nQ 21.96875 47.46875 24.109375 47.828125 \r\nQ 26.265625 48.1875 28.421875 48.1875 \r\nQ 40.625 48.1875 47.75 41.5 \r\nQ 54.890625 34.8125 54.890625 23.390625 \r\nQ 54.890625 11.625 47.5625 5.09375 \r\nQ 40.234375 -1.421875 26.90625 -1.421875 \r\nQ 22.3125 -1.421875 17.546875 -0.640625 \r\nQ 12.796875 0.140625 7.71875 1.703125 \r\nL 7.71875 11.625 \r\nQ 12.109375 9.234375 16.796875 8.0625 \r\nQ 21.484375 6.890625 26.703125 6.890625 \r\nQ 35.15625 6.890625 40.078125 11.328125 \r\nQ 45.015625 15.765625 45.015625 23.390625 \r\nQ 45.015625 31 40.078125 35.4375 \r\nQ 35.15625 39.890625 26.703125 39.890625 \r\nQ 22.75 39.890625 18.8125 39.015625 \r\nQ 14.890625 38.140625 10.796875 36.28125 \r\nz\r\n\" id=\"DejaVuSans-53\"/>\r\n      </defs>\r\n      <g transform=\"translate(263.12575 163.583085)scale(0.1 -0.1)\">\r\n       <use xlink:href=\"#DejaVuSans-53\"/>\r\n       <use x=\"63.623047\" xlink:href=\"#DejaVuSans-48\"/>\r\n       <use x=\"127.246094\" xlink:href=\"#DejaVuSans-48\"/>\r\n      </g>\r\n     </g>\r\n    </g>\r\n    <g id=\"xtick_7\">\r\n     <g id=\"line2d_7\">\r\n      <g>\r\n       <use style=\"stroke:#000000;stroke-width:0.8;\" x=\"320.498071\" xlink:href=\"#me66162f89a\" y=\"148.984647\"/>\r\n      </g>\r\n     </g>\r\n     <g id=\"text_7\">\r\n      <!-- 600 -->\r\n      <defs>\r\n       <path d=\"M 33.015625 40.375 \r\nQ 26.375 40.375 22.484375 35.828125 \r\nQ 18.609375 31.296875 18.609375 23.390625 \r\nQ 18.609375 15.53125 22.484375 10.953125 \r\nQ 26.375 6.390625 33.015625 6.390625 \r\nQ 39.65625 6.390625 43.53125 10.953125 \r\nQ 47.40625 15.53125 47.40625 23.390625 \r\nQ 47.40625 31.296875 43.53125 35.828125 \r\nQ 39.65625 40.375 33.015625 40.375 \r\nz\r\nM 52.59375 71.296875 \r\nL 52.59375 62.3125 \r\nQ 48.875 64.0625 45.09375 64.984375 \r\nQ 41.3125 65.921875 37.59375 65.921875 \r\nQ 27.828125 65.921875 22.671875 59.328125 \r\nQ 17.53125 52.734375 16.796875 39.40625 \r\nQ 19.671875 43.65625 24.015625 45.921875 \r\nQ 28.375 48.1875 33.59375 48.1875 \r\nQ 44.578125 48.1875 50.953125 41.515625 \r\nQ 57.328125 34.859375 57.328125 23.390625 \r\nQ 57.328125 12.15625 50.6875 5.359375 \r\nQ 44.046875 -1.421875 33.015625 -1.421875 \r\nQ 20.359375 -1.421875 13.671875 8.265625 \r\nQ 6.984375 17.96875 6.984375 36.375 \r\nQ 6.984375 53.65625 15.1875 63.9375 \r\nQ 23.390625 74.21875 37.203125 74.21875 \r\nQ 40.921875 74.21875 44.703125 73.484375 \r\nQ 48.484375 72.75 52.59375 71.296875 \r\nz\r\n\" id=\"DejaVuSans-54\"/>\r\n      </defs>\r\n      <g transform=\"translate(310.954321 163.583085)scale(0.1 -0.1)\">\r\n       <use xlink:href=\"#DejaVuSans-54\"/>\r\n       <use x=\"63.623047\" xlink:href=\"#DejaVuSans-48\"/>\r\n       <use x=\"127.246094\" xlink:href=\"#DejaVuSans-48\"/>\r\n      </g>\r\n     </g>\r\n    </g>\r\n   </g>\r\n   <g id=\"matplotlib.axis_2\">\r\n    <g id=\"ytick_1\">\r\n     <g id=\"line2d_8\">\r\n      <defs>\r\n       <path d=\"M 0 0 \r\nL -3.5 0 \r\n\" id=\"mfcfa9c8c96\" style=\"stroke:#000000;stroke-width:0.8;\"/>\r\n      </defs>\r\n      <g>\r\n       <use style=\"stroke:#000000;stroke-width:0.8;\" x=\"33.2875\" xlink:href=\"#mfcfa9c8c96\" y=\"10.999219\"/>\r\n      </g>\r\n     </g>\r\n     <g id=\"text_8\">\r\n      <!-- 0 -->\r\n      <g transform=\"translate(19.925 14.798437)scale(0.1 -0.1)\">\r\n       <use xlink:href=\"#DejaVuSans-48\"/>\r\n      </g>\r\n     </g>\r\n    </g>\r\n    <g id=\"ytick_2\">\r\n     <g id=\"line2d_9\">\r\n      <g>\r\n       <use style=\"stroke:#000000;stroke-width:0.8;\" x=\"33.2875\" xlink:href=\"#mfcfa9c8c96\" y=\"34.913504\"/>\r\n      </g>\r\n     </g>\r\n     <g id=\"text_9\">\r\n      <!-- 50 -->\r\n      <g transform=\"translate(13.5625 38.712723)scale(0.1 -0.1)\">\r\n       <use xlink:href=\"#DejaVuSans-53\"/>\r\n       <use x=\"63.623047\" xlink:href=\"#DejaVuSans-48\"/>\r\n      </g>\r\n     </g>\r\n    </g>\r\n    <g id=\"ytick_3\">\r\n     <g id=\"line2d_10\">\r\n      <g>\r\n       <use style=\"stroke:#000000;stroke-width:0.8;\" x=\"33.2875\" xlink:href=\"#mfcfa9c8c96\" y=\"58.82779\"/>\r\n      </g>\r\n     </g>\r\n     <g id=\"text_10\">\r\n      <!-- 100 -->\r\n      <g transform=\"translate(7.2 62.627009)scale(0.1 -0.1)\">\r\n       <use xlink:href=\"#DejaVuSans-49\"/>\r\n       <use x=\"63.623047\" xlink:href=\"#DejaVuSans-48\"/>\r\n       <use x=\"127.246094\" xlink:href=\"#DejaVuSans-48\"/>\r\n      </g>\r\n     </g>\r\n    </g>\r\n    <g id=\"ytick_4\">\r\n     <g id=\"line2d_11\">\r\n      <g>\r\n       <use style=\"stroke:#000000;stroke-width:0.8;\" x=\"33.2875\" xlink:href=\"#mfcfa9c8c96\" y=\"82.742076\"/>\r\n      </g>\r\n     </g>\r\n     <g id=\"text_11\">\r\n      <!-- 150 -->\r\n      <g transform=\"translate(7.2 86.541295)scale(0.1 -0.1)\">\r\n       <use xlink:href=\"#DejaVuSans-49\"/>\r\n       <use x=\"63.623047\" xlink:href=\"#DejaVuSans-53\"/>\r\n       <use x=\"127.246094\" xlink:href=\"#DejaVuSans-48\"/>\r\n      </g>\r\n     </g>\r\n    </g>\r\n    <g id=\"ytick_5\">\r\n     <g id=\"line2d_12\">\r\n      <g>\r\n       <use style=\"stroke:#000000;stroke-width:0.8;\" x=\"33.2875\" xlink:href=\"#mfcfa9c8c96\" y=\"106.656362\"/>\r\n      </g>\r\n     </g>\r\n     <g id=\"text_12\">\r\n      <!-- 200 -->\r\n      <g transform=\"translate(7.2 110.45558)scale(0.1 -0.1)\">\r\n       <use xlink:href=\"#DejaVuSans-50\"/>\r\n       <use x=\"63.623047\" xlink:href=\"#DejaVuSans-48\"/>\r\n       <use x=\"127.246094\" xlink:href=\"#DejaVuSans-48\"/>\r\n      </g>\r\n     </g>\r\n    </g>\r\n    <g id=\"ytick_6\">\r\n     <g id=\"line2d_13\">\r\n      <g>\r\n       <use style=\"stroke:#000000;stroke-width:0.8;\" x=\"33.2875\" xlink:href=\"#mfcfa9c8c96\" y=\"130.570647\"/>\r\n      </g>\r\n     </g>\r\n     <g id=\"text_13\">\r\n      <!-- 250 -->\r\n      <g transform=\"translate(7.2 134.369866)scale(0.1 -0.1)\">\r\n       <use xlink:href=\"#DejaVuSans-50\"/>\r\n       <use x=\"63.623047\" xlink:href=\"#DejaVuSans-53\"/>\r\n       <use x=\"127.246094\" xlink:href=\"#DejaVuSans-48\"/>\r\n      </g>\r\n     </g>\r\n    </g>\r\n   </g>\r\n   <g id=\"patch_3\">\r\n    <path d=\"M 33.2875 148.984647 \r\nL 33.2875 10.760076 \r\n\" style=\"fill:none;stroke:#000000;stroke-linecap:square;stroke-linejoin:miter;stroke-width:0.8;\"/>\r\n   </g>\r\n   <g id=\"patch_4\">\r\n    <path d=\"M 368.0875 148.984647 \r\nL 368.0875 10.760076 \r\n\" style=\"fill:none;stroke:#000000;stroke-linecap:square;stroke-linejoin:miter;stroke-width:0.8;\"/>\r\n   </g>\r\n   <g id=\"patch_5\">\r\n    <path d=\"M 33.2875 148.984647 \r\nL 368.0875 148.984647 \r\n\" style=\"fill:none;stroke:#000000;stroke-linecap:square;stroke-linejoin:miter;stroke-width:0.8;\"/>\r\n   </g>\r\n   <g id=\"patch_6\">\r\n    <path d=\"M 33.2875 10.760076 \r\nL 368.0875 10.760076 \r\n\" style=\"fill:none;stroke:#000000;stroke-linecap:square;stroke-linejoin:miter;stroke-width:0.8;\"/>\r\n   </g>\r\n  </g>\r\n </g>\r\n <defs>\r\n  <clipPath id=\"p3033e07ba3\">\r\n   <rect height=\"138.224571\" width=\"334.8\" x=\"33.2875\" y=\"10.760076\"/>\r\n  </clipPath>\r\n </defs>\r\n</svg>\r\n",
      "image/png": "[encoded data removed]"
     },
     "metadata": {
      "needs_background": "light"
     }
    }
   ],
   "source": [
    "from bs4 import BeautifulSoup as bs\n",
    "import requests\n",
    "import matplotlib.pyplot as plt\n",
    "import matplotlib.image as mpimg\n",
    "\n",
    "\n",
    "class Naver_crawler():\n",
    "    parser = 'lxml'\n",
    "\n",
    "    def __init__(self):\n",
    "        print('Naver_crawler inited')\n",
    "\n",
    "    def req(self, path = 'https://naver.com'):\n",
    "        \n",
    "\n",
    "        res = requests.get(path, headers={'user-agent': 'Mozilla/5.0 (Windows NT 10.0; Win64; x64) AppleWebKit/537.36 (KHTML, like Gecko) Chrome/86.0.4240.75 Safari/537.36'})\n",
    "        print(res)\n",
    "\n",
    "        html = res.text\n",
    "\n",
    "        parsed = bs(html, self.parser)\n",
    "        return parsed\n",
    "\n",
    "    def get_main(self):\n",
    "        return self.req()\n",
    "    \n",
    "    def get_menu(self):\n",
    "        html = self.get_main()\n",
    "        list = html.select('.list_nav.type_fix .nav_item a')\n",
    "        data = [l.text for l in list]\n",
    "        return data\n",
    "\n",
    "    def search_stock(self, num):\n",
    "        url = f'https://finance.naver.com/item/main.nhn?code={num}'\n",
    "        html = self.req(url)\n",
    "        title = html.select('.h_company h2 a')[0]\n",
    "        name = title.text\n",
    "        img = html.select('#img_chart_area')[0]\n",
    "        imgurl = img.attrs['src']\n",
    "        return (name, imgurl)\n",
    "\n",
    "crawler = Naver_crawler()\n",
    "\n",
    "# 메뉴 가져오기\n",
    "crawler.get_menu()\n",
    "\n",
    "# 메뉴 가져오기\n",
    "name, imgurl = crawler.search_stock('089970')\n",
    "print(f'{name}의 현재 주가 차트')\n",
    "img = mpimg.imread(imgurl)\n",
    "imgplot = plt.imshow(img)\n",
    "plt.show()\n"
   ]
  },
  {
   "cell_type": "code",
   "execution_count": 184,
   "metadata": {
    "tags": []
   },
   "outputs": [
    {
     "output_type": "stream",
     "name": "stdout",
     "text": [
      "[]\n"
     ]
    }
   ],
   "source": [
    "url = 'https://www.hankookilbo.com/News/Read/A2020101618490003127'\n",
    "\n",
    "def get_news_post():\n",
    "    res = requests.get(url).text\n",
    "    html = bs(res, 'lxml')\n",
    "    # print(html)\n",
    "    print(html.find_all(class_=['.title', '.editor-p']))\n",
    "    # for tag in html.select('.editor-p'):\n",
    "    #     print(tag.text)\n",
    "    # print(data)\n",
    "\n",
    "get_news_post()"
   ]
  },
  {
   "cell_type": "code",
   "execution_count": 196,
   "metadata": {},
   "outputs": [],
   "source": [
    "def req(url):\n",
    "    res = requests.get(url, headers={'user-agent': 'Mozilla/5.0 (Windows NT 10.0; Win64; x64) AppleWebKit/537.36 (KHTML, like Gecko) Chrome/86.0.4240.75 Safari/537.36'}).text\n",
    "    html = bs(res, 'lxml')\n",
    "    return html"
   ]
  },
  {
   "cell_type": "code",
   "execution_count": 186,
   "metadata": {},
   "outputs": [
    {
     "output_type": "stream",
     "name": "stdout",
     "text": [
      "대한민국 웹사이트 상위 50위 m,.n \n1위 Google.com\n2위 Naver.com\n3위 Youtube.com\n4위 Daum.net\n5위 Tistory.com\n6위 Tmall.com\n7위 Facebook.com\n8위 Google.co.kr\n9위 Kakao.com\n10위 Amazon.com\n11위 Namu.wiki\n12위 Wikipedia.org\n13위 Sohu.com\n14위 Qq.com\n15위 Netflix.com\n16위 Taobao.com\n17위 360.cn\n18위 Jd.com\n19위 Coupang.com\n20위 Dcinside.com\n21위 Apple.com\n22위 Baidu.com\n23위 Microsoft.com\n24위 Twitch.tv\n25위 Gmarket.co.kr\n26위 Donga.com\n27위 Adobe.com\n28위 Yahoo.com\n29위 Instagram.com\n30위 Sina.com.cn\n31위 Weibo.com\n32위 Zoom.us\n33위 Nate.com\n34위 Stackoverflow.com\n35위 11st.co.kr\n36위 Office.com\n37위 Amazon.co.uk\n38위 Bing.com\n39위 Ebay.com\n40위 Aliexpress.com\n41위 Yna.co.kr\n42위 Chosun.com\n43위 Afreecatv.com\n44위 Fmkorea.com\n45위 Ppomppu.co.kr\n46위 Amazon.co.jp\n47위 Inven.co.kr\n48위 Dropbox.com\n49위 Ruliweb.com\n50위 Tumblr.com\n"
     ]
    }
   ],
   "source": [
    "alexa_ranking = req('https://www.alexa.com/topsites/countries/KR')\n",
    "\n",
    "print('대한민국 웹사이트 상위 50위 m,.n ')\n",
    "for i, v in  enumerate([a.get_text() for a in alexa_ranking.select('.DescriptionCell a')]):\n",
    "    print(f'{i + 1}위 {v}')"
   ]
  },
  {
   "cell_type": "code",
   "execution_count": 187,
   "metadata": {},
   "outputs": [],
   "source": [
    "import pandas as pd\n",
    "\n",
    "def get_text_by_select(html, selector):\n",
    "    data = [[index + 1, i.get_text()] for index, i in enumerate(html.select(selector)[:])]\n",
    "    return data\n",
    "\n",
    "\n",
    "\n",
    "naver_music_top50 = req('https://music.naver.com/listen/top100.nhn?domain=TOTAL')\n",
    "\n",
    "ranking = get_text_by_select(naver_music_top50, '.title span')\n",
    "\n",
    "df = pd.DataFrame(ranking, columns=['순위', '곡명'])\n",
    "\n",
    "sheet_name='2020년 11월 03일 네이버뮤직 Top 50'\n",
    "\n",
    "\n",
    "excelWriter = pd.ExcelWriter(sheet_name+'.xlsx', engine='xlsxwriter')\n",
    "# worksheet = excelWriter.sheets[sheet_name]\n",
    "df.to_excel(excelWriter, index=True, sheet_name=sheet_name)\n",
    "excelWriter.save()"
   ]
  },
  {
   "cell_type": "code",
   "execution_count": 188,
   "metadata": {},
   "outputs": [
    {
     "output_type": "execute_result",
     "data": {
      "text/plain": [
       "                                               제목                채널     조회수\n",
       "0     [긴박엔딩] 이지아, 김소연×엄기준 불륜 현장 목격 후 들키기 ‘일보 직전!’             펜트하우스  90,297\n",
       "1          17살 차이나는 박휘순♥천예지 부부!! 나이보단 사랑이 우선이다..☆             아내의 맛  21,225\n",
       "2                        임신 확률 겨우 4%😭 둘째 원하는 이유!?             아내의 맛  16,518\n",
       "3       잠시만 안녕. 김호중 군복무전 마지막 무대 ＜배웅＞ㅣ김호중의파트너 EP.5  아무도 모르게 김호중의 파트너  02,515\n",
       "4          [키스 엔딩] ＂보고 싶었어...＂ 김하늘♥이도현의 변하지 않은 사랑            18 어게인  10,810\n",
       "..                                            ...               ...     ...\n",
       "95                       김희재 ‘나는 남자다’ ♫ 섹시한 골반댄스♨       2020 트롯 어워즈  13,020\n",
       "96              [단독] 술 취해 지하철서 여성 성추행…말리는 시민 폭행까지            MBN 뉴스    ,474\n",
       "97                                  현대건설-흥국생명 풀영상       프로배구 네이버스포츠    ,217\n",
       "98  [티저] ＂나도 아닌데, 장난치는 거＂  〈라이브 온〉 11/17(화) 첫 방송!              라이브온  45,127\n",
       "99      [9화 예고] 이동욱x김범 형제, 아귀의 숲에 갇혔다? 드디어 알게된 진심              구미호뎐  13,476\n",
       "\n",
       "[100 rows x 3 columns]"
      ],
      "text/html": "<div>\n<style scoped>\n    .dataframe tbody tr th:only-of-type {\n        vertical-align: middle;\n    }\n\n    .dataframe tbody tr th {\n        vertical-align: top;\n    }\n\n    .dataframe thead th {\n        text-align: right;\n    }\n</style>\n<table border=\"1\" class=\"dataframe\">\n  <thead>\n    <tr style=\"text-align: right;\">\n      <th></th>\n      <th>제목</th>\n      <th>채널</th>\n      <th>조회수</th>\n    </tr>\n  </thead>\n  <tbody>\n    <tr>\n      <th>0</th>\n      <td>[긴박엔딩] 이지아, 김소연×엄기준 불륜 현장 목격 후 들키기 ‘일보 직전!’</td>\n      <td>펜트하우스</td>\n      <td>90,297</td>\n    </tr>\n    <tr>\n      <th>1</th>\n      <td>17살 차이나는 박휘순♥천예지 부부!! 나이보단 사랑이 우선이다..☆</td>\n      <td>아내의 맛</td>\n      <td>21,225</td>\n    </tr>\n    <tr>\n      <th>2</th>\n      <td>임신 확률 겨우 4%😭 둘째 원하는 이유!?</td>\n      <td>아내의 맛</td>\n      <td>16,518</td>\n    </tr>\n    <tr>\n      <th>3</th>\n      <td>잠시만 안녕. 김호중 군복무전 마지막 무대 ＜배웅＞ㅣ김호중의파트너 EP.5</td>\n      <td>아무도 모르게 김호중의 파트너</td>\n      <td>02,515</td>\n    </tr>\n    <tr>\n      <th>4</th>\n      <td>[키스 엔딩] ＂보고 싶었어...＂ 김하늘♥이도현의 변하지 않은 사랑</td>\n      <td>18 어게인</td>\n      <td>10,810</td>\n    </tr>\n    <tr>\n      <th>...</th>\n      <td>...</td>\n      <td>...</td>\n      <td>...</td>\n    </tr>\n    <tr>\n      <th>95</th>\n      <td>김희재 ‘나는 남자다’ ♫ 섹시한 골반댄스♨</td>\n      <td>2020 트롯 어워즈</td>\n      <td>13,020</td>\n    </tr>\n    <tr>\n      <th>96</th>\n      <td>[단독] 술 취해 지하철서 여성 성추행…말리는 시민 폭행까지</td>\n      <td>MBN 뉴스</td>\n      <td>,474</td>\n    </tr>\n    <tr>\n      <th>97</th>\n      <td>현대건설-흥국생명 풀영상</td>\n      <td>프로배구 네이버스포츠</td>\n      <td>,217</td>\n    </tr>\n    <tr>\n      <th>98</th>\n      <td>[티저] ＂나도 아닌데, 장난치는 거＂  〈라이브 온〉 11/17(화) 첫 방송!</td>\n      <td>라이브온</td>\n      <td>45,127</td>\n    </tr>\n    <tr>\n      <th>99</th>\n      <td>[9화 예고] 이동욱x김범 형제, 아귀의 숲에 갇혔다? 드디어 알게된 진심</td>\n      <td>구미호뎐</td>\n      <td>13,476</td>\n    </tr>\n  </tbody>\n</table>\n<p>100 rows × 3 columns</p>\n</div>"
     },
     "metadata": {},
     "execution_count": 188
    }
   ],
   "source": [
    "naver_tv_top100 = req('https://tv.naver.com/r/')\n",
    "\n",
    "def get_text_by_select(html, selector):\n",
    "    data = [i.get_text() for index, i in enumerate(html.select(selector)[:])]\n",
    "    return data\n",
    "\n",
    "chanels = get_text_by_select(naver_tv_top100, '.chn a')\n",
    "hits = [t[5:] for t in get_text_by_select(naver_tv_top100, '.meta .hit')]\n",
    "titles = get_text_by_select(naver_tv_top100, 'dt.title span, dt.title tooltip')\n",
    "\n",
    "df2 = pd.DataFrame(list(zip(titles, chanels, hits)), columns=['제목', '채널', '조회수'])\n",
    "df2\n"
   ]
  },
  {
   "cell_type": "code",
   "execution_count": 189,
   "metadata": {},
   "outputs": [
    {
     "output_type": "stream",
     "name": "stdout",
     "text": [
      "     순위                 곡명               가수\n0     1                 선물  멜로망스(Melomance)\n1     2      눈 (Feat. 이문세)           Zion.T\n2     3            기억의 빈자리               나얼\n3     4       Heart Shaker      TWICE(트와이스)\n4     5          Beautiful   Wanna One(워너원)\n..  ...                ...              ...\n95   96  Lonely (Feat. 태연)    종현 (JONGHYUN)\n96   97              슬픈 노래             젝스키스\n97   98             네가 필요해             젝스키스\n98   99             밤이 되니까       펀치 (Punch)\n99  100           나의 사춘기에게           볼빨간사춘기\n\n[100 rows x 3 columns]\n"
     ]
    }
   ],
   "source": [
    "\"\"\"\n",
    "네이버 뮤직 2017년 12월 1주차 1~100위 엑셀로 추출하기\n",
    "\"\"\"\n",
    "\n",
    "def get_text_by_select(html, selector):\n",
    "    data = [i.get_text().strip() for index, i in enumerate(html.select(selector)[:])]\n",
    "    return data\n",
    "\n",
    "def get_naver_music_top100_excel(year, month):\n",
    "    year = str(year)\n",
    "    month = str(month)\n",
    "    if len(month) == 1:\n",
    "        month = '0' + month\n",
    "\n",
    "    url = f\"https://music.naver.com/listen/history/index.nhn?type=TOTAL&year={year}&month={month}&week=0&page=\"\n",
    "\n",
    "    data = []\n",
    "\n",
    "    for i in list(range(0, 2)):\n",
    "        old_naver_music_top100 = req(url + str(i))\n",
    "        titles = get_text_by_select(old_naver_music_top100, '.title span')[1:]\n",
    "        artists = get_text_by_select(old_naver_music_top100, '.artist a')\n",
    "        \n",
    "        for j, value in enumerate(titles):\n",
    "            row = [50*i + j + 1, titles[j], artists[j]]\n",
    "            data.append(row)\n",
    "\n",
    "    table = pd.DataFrame(data, columns=['순위', '곡명', '가수'])\n",
    "    # table.to_excel(f'{year}년{month}_top100.xlsx')\n",
    "    print(table)\n",
    "\n",
    "get_naver_music_top100_excel('2017', '12')\n"
   ]
  },
  {
   "cell_type": "code",
   "execution_count": 202,
   "metadata": {
    "tags": []
   },
   "outputs": [
    {
     "output_type": "error",
     "ename": "IndentationError",
     "evalue": "unexpected indent (<ipython-input-202-8a1e815759ce>, line 23)",
     "traceback": [
      "\u001b[1;36m  File \u001b[1;32m\"<ipython-input-202-8a1e815759ce>\"\u001b[1;36m, line \u001b[1;32m23\u001b[0m\n\u001b[1;33m    data.append(row)\u001b[0m\n\u001b[1;37m    ^\u001b[0m\n\u001b[1;31mIndentationError\u001b[0m\u001b[1;31m:\u001b[0m unexpected indent\n"
     ]
    }
   ],
   "source": [
    "\"\"\"\n",
    "멜론 1~100위 엑셀로 추출하기\n",
    "\"\"\"\n",
    "\n",
    "def get_text_by_select(html, selector):\n",
    "    data = [i.get_text().strip() for index, i in enumerate(html.select(selector)[:])]\n",
    "    return data\n",
    "\n",
    "def get_melon_top100_excel():\n",
    "\n",
    "    url = f\"https://www.melon.com/new/index.htm#params%5BareaFlg%5D=I&po=pageObj&startIndex=1\"\n",
    "\n",
    "    data = []\n",
    "\n",
    "    melon_top100 = req(url + str(i))\n",
    "    \n",
    "    titles = get_text_by_select(melon_top100, '.rank01')\n",
    "    artists = get_text_by_select(melon_top100, '.rank02')\n",
    "    albums = get_text_by_select(melon_top100, '.rank03')\n",
    "    \n",
    "    for j, value in enumerate(titles):\n",
    "        row = [j + 1, titles[j], artists[j], albums[j]]\n",
    "           data.append(row)\n",
    "\n",
    "    table = pd.DataFrame(data, columns=['순위', '곡명', '가수', '앨범'])\n",
    "    # table.to_excel(f'{year}년{month}_top100.xlsx')\n",
    "    return table\n",
    "\n",
    "data = get_melon_top100_excel()\n",
    "data\n"
   ]
  },
  {
   "cell_type": "code",
   "execution_count": 217,
   "metadata": {},
   "outputs": [
    {
     "output_type": "error",
     "ename": "TypeError",
     "evalue": "get_news() takes 0 positional arguments but 1 was given",
     "traceback": [
      "\u001b[1;31m---------------------------------------------------------------------------\u001b[0m",
      "\u001b[1;31mTypeError\u001b[0m                                 Traceback (most recent call last)",
      "\u001b[1;32m<ipython-input-217-15fc652210b9>\u001b[0m in \u001b[0;36m<module>\u001b[1;34m\u001b[0m\n\u001b[0;32m     14\u001b[0m     \u001b[1;32mreturn\u001b[0m \u001b[0mhtml\u001b[0m\u001b[1;33m\u001b[0m\u001b[1;33m\u001b[0m\u001b[0m\n\u001b[0;32m     15\u001b[0m \u001b[1;33m\u001b[0m\u001b[0m\n\u001b[1;32m---> 16\u001b[1;33m \u001b[0mget_news\u001b[0m\u001b[1;33m(\u001b[0m\u001b[1;34m'심으뜸'\u001b[0m\u001b[1;33m)\u001b[0m\u001b[1;33m\u001b[0m\u001b[1;33m\u001b[0m\u001b[0m\n\u001b[0m",
      "\u001b[1;31mTypeError\u001b[0m: get_news() takes 0 positional arguments but 1 was given"
     ]
    }
   ],
   "source": [
    "from urllib import parse\n",
    "\"\"\"\n",
    "    네이버 뉴스 중요 뉴스만 가져오기\n",
    "\"\"\"\n",
    "\n",
    "def get_news():\n",
    "    # keyword = parse.urlencode(keyword)\n",
    "    html = req(f\"https://news.naver.com/\")\n",
    "    component = get_text_by_select(html, '.main_component')\n",
    "\n",
    "    for i in component:\n",
    "        print(i)\n",
    "\n",
    "    return html\n",
    "\n",
    "get_news('심으뜸')"
   ]
  }
 ],
 "metadata": {
  "kernelspec": {
   "name": "Python 3.8.3 64-bit (conda)",
   "display_name": "Python 3.8.3 64-bit (conda)",
   "metadata": {
    "interpreter": {
     "hash": "fdd836e67e8fe0c88bd02646b333c3c0da2a1176c9ac5c876b68c94a3c800b6c"
    }
   }
  }
 },
 "nbformat": 4,
 "nbformat_minor": 4
}