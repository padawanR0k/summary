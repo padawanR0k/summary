{
 "cells": [
  {
   "cell_type": "code",
   "execution_count": 13,
   "metadata": {},
   "outputs": [],
   "source": [
    "\n",
    "import pandas as pd\n",
    "import numpy as np\n",
    "import math"
   ]
  },
  {
   "source": [
    "### 데이터에서 원하는 데이터만 가져오기"
   ],
   "cell_type": "markdown",
   "metadata": {}
  },
  {
   "cell_type": "code",
   "execution_count": 14,
   "metadata": {
    "tags": []
   },
   "outputs": [
    {
     "output_type": "stream",
     "name": "stdout",
     "text": [
      "Index(['의료기관번호', '기관명', '기관분류', '기관장명', '코디네이터', '이메일', '지역구분(구,동)', '주소',\n       '상세주소', '우편번호', '홈페이지주소', '병상수', '의료진', '면적', '기관소개', '지도좌표(X)',\n       '지도좌표(Y)', '전문분야', '유치업등록번호', '보험정보', '공항까지의거리', '택시교통편', '기타교통편',\n       '적용여부', '한줄소개', '보유장비', '부가정보', '등록일', '최종수정', '상담가능언어', '분류코드',\n       '기관종업원수', '처치실수', '마취가능의사상주여부', '심장제세동기설치여부', '기관인증'],\n      dtype='object')\nRangeIndex(start=0, stop=252, step=1)\n"
     ]
    },
    {
     "output_type": "execute_result",
     "data": {
      "text/plain": [
       "             기관명  지역구분(구,동)                                  주소  \\\n",
       "0        비오페이스의원      Sinsa                  서울 강남구 강남대로152길 22   \n",
       "1       에프아이성형외과      Sinsa                      서울 강남구 논현로 873   \n",
       "2           힐링안과    Yeoksam                     서울 강남구 강남대로 470   \n",
       "3          클린피부과  Cheongdam                     서울 강남구 압구정로 432   \n",
       "4       에이탑 성형외과    Yeoksam  서울 강남구 강남대로 94길 10 K SQUARE 4층/5층    \n",
       "..           ...        ...                                 ...   \n",
       "247        정관복원술          -                                   -   \n",
       "248       추간판탈출증          -                                   -   \n",
       "249        척추고정술          -                                   -   \n",
       "250   무릎인공관절 전치술          -                                   -   \n",
       "251  고관절인공관절 전치술          -                                   -   \n",
       "\n",
       "                                홈페이지주소   처치실수  공항까지의거리  한줄소개  \n",
       "0                http://www.bioface.kr      6      NaN   NaN  \n",
       "1               http://fipsclinic.com/  3 / 2      NaN   NaN  \n",
       "2         http://www.healingeye.co.kr/      8      NaN   NaN  \n",
       "3    http://www.cleanskinclinic.co.kr/    NaN      NaN   NaN  \n",
       "4               http://www.atopps.com/  8 / 4      NaN   NaN  \n",
       "..                                 ...    ...      ...   ...  \n",
       "247                                NaN    NaN      NaN   NaN  \n",
       "248                                NaN    NaN      NaN   NaN  \n",
       "249                                NaN    NaN      NaN   NaN  \n",
       "250                                NaN    NaN      NaN   NaN  \n",
       "251                                NaN    NaN      NaN   NaN  \n",
       "\n",
       "[252 rows x 7 columns]"
      ],
      "text/html": "<div>\n<style scoped>\n    .dataframe tbody tr th:only-of-type {\n        vertical-align: middle;\n    }\n\n    .dataframe tbody tr th {\n        vertical-align: top;\n    }\n\n    .dataframe thead th {\n        text-align: right;\n    }\n</style>\n<table border=\"1\" class=\"dataframe\">\n  <thead>\n    <tr style=\"text-align: right;\">\n      <th></th>\n      <th>기관명</th>\n      <th>지역구분(구,동)</th>\n      <th>주소</th>\n      <th>홈페이지주소</th>\n      <th>처치실수</th>\n      <th>공항까지의거리</th>\n      <th>한줄소개</th>\n    </tr>\n  </thead>\n  <tbody>\n    <tr>\n      <th>0</th>\n      <td>비오페이스의원</td>\n      <td>Sinsa</td>\n      <td>서울 강남구 강남대로152길 22</td>\n      <td>http://www.bioface.kr</td>\n      <td>6</td>\n      <td>NaN</td>\n      <td>NaN</td>\n    </tr>\n    <tr>\n      <th>1</th>\n      <td>에프아이성형외과</td>\n      <td>Sinsa</td>\n      <td>서울 강남구 논현로 873</td>\n      <td>http://fipsclinic.com/</td>\n      <td>3 / 2</td>\n      <td>NaN</td>\n      <td>NaN</td>\n    </tr>\n    <tr>\n      <th>2</th>\n      <td>힐링안과</td>\n      <td>Yeoksam</td>\n      <td>서울 강남구 강남대로 470</td>\n      <td>http://www.healingeye.co.kr/</td>\n      <td>8</td>\n      <td>NaN</td>\n      <td>NaN</td>\n    </tr>\n    <tr>\n      <th>3</th>\n      <td>클린피부과</td>\n      <td>Cheongdam</td>\n      <td>서울 강남구 압구정로 432</td>\n      <td>http://www.cleanskinclinic.co.kr/</td>\n      <td>NaN</td>\n      <td>NaN</td>\n      <td>NaN</td>\n    </tr>\n    <tr>\n      <th>4</th>\n      <td>에이탑 성형외과</td>\n      <td>Yeoksam</td>\n      <td>서울 강남구 강남대로 94길 10 K SQUARE 4층/5층</td>\n      <td>http://www.atopps.com/</td>\n      <td>8 / 4</td>\n      <td>NaN</td>\n      <td>NaN</td>\n    </tr>\n    <tr>\n      <th>...</th>\n      <td>...</td>\n      <td>...</td>\n      <td>...</td>\n      <td>...</td>\n      <td>...</td>\n      <td>...</td>\n      <td>...</td>\n    </tr>\n    <tr>\n      <th>247</th>\n      <td>정관복원술</td>\n      <td>-</td>\n      <td>-</td>\n      <td>NaN</td>\n      <td>NaN</td>\n      <td>NaN</td>\n      <td>NaN</td>\n    </tr>\n    <tr>\n      <th>248</th>\n      <td>추간판탈출증</td>\n      <td>-</td>\n      <td>-</td>\n      <td>NaN</td>\n      <td>NaN</td>\n      <td>NaN</td>\n      <td>NaN</td>\n    </tr>\n    <tr>\n      <th>249</th>\n      <td>척추고정술</td>\n      <td>-</td>\n      <td>-</td>\n      <td>NaN</td>\n      <td>NaN</td>\n      <td>NaN</td>\n      <td>NaN</td>\n    </tr>\n    <tr>\n      <th>250</th>\n      <td>무릎인공관절 전치술</td>\n      <td>-</td>\n      <td>-</td>\n      <td>NaN</td>\n      <td>NaN</td>\n      <td>NaN</td>\n      <td>NaN</td>\n    </tr>\n    <tr>\n      <th>251</th>\n      <td>고관절인공관절 전치술</td>\n      <td>-</td>\n      <td>-</td>\n      <td>NaN</td>\n      <td>NaN</td>\n      <td>NaN</td>\n      <td>NaN</td>\n    </tr>\n  </tbody>\n</table>\n<p>252 rows × 7 columns</p>\n</div>"
     },
     "metadata": {},
     "execution_count": 14
    }
   ],
   "source": [
    "\n",
    "def excel_to_pd(fileURL):\n",
    "    excel = pd.read_excel(fileURL)\n",
    "    print(excel.columns)\n",
    "    print(excel.index)\n",
    "    excel = excel[['기관명', '지역구분(구,동)' ,'주소', '홈페이지주소', '처치실수', '공항까지의거리', '한줄소개']]\n",
    "\n",
    "    for colurm in excel:\n",
    "        for i in excel.index:\n",
    "            \n",
    "            #print(f'excel[colurm][i]: {excel[colurm][i]} {type(excel[colurm][i])} ')\n",
    "            try:\n",
    "                if type(excel[colurm][i]) != 'str' and np.isnan(int(excel[colurm][i])):\n",
    "                    excel[colurm][i] = '-'\n",
    "            except:\n",
    "                pass\n",
    "    \n",
    "    return excel\n",
    "\n",
    "\n",
    "data = excel_to_pd('./ganam_medical_treval.xls')\n",
    "data\n",
    "# data.to_excel('./ganam_medical_treval_filtered.xls')\n"
   ]
  },
  {
   "source": [
    "### 데이터를 여러 파일로 분리하기"
   ],
   "cell_type": "markdown",
   "metadata": {}
  },
  {
   "cell_type": "code",
   "execution_count": 15,
   "metadata": {},
   "outputs": [],
   "source": [
    "seoul_data = pd.read_csv('https://gist.githubusercontent.com/padawanR0k/ccc285fb7aaa94d814f5f859a8e9eac7/raw/fad36756bd0701452755a20af1050e780c5bc684/seoul_local_population_2.csv', index_col='자치구')\n",
    "\n",
    "for gu in seoul_data.index:\n",
    "    seoul_data.loc[gu].to_excel(f'./{gu}.xlsx') # 1~100세를 구별로 구분하여 엑셀로 저장\n"
   ]
  },
  {
   "cell_type": "code",
   "execution_count": 16,
   "metadata": {},
   "outputs": [],
   "source": [
    "import glob\n",
    "\n",
    "# 원하는 자치구 데이터만 merge하여 하나의 excel로 만들기\n",
    "def merge_data(gu):\n",
    "\n",
    "    files = glob.glob('*구.xlsx')\n",
    "\n",
    "    emptyDf = pd.DataFrame()\n",
    "    indexs = []\n",
    "    for g  in list(filter(lambda x: f'{x}.xlsx' in files, gu)):\n",
    "        data = pd.read_excel(f'./{g}.xlsx', index_col=0)\n",
    "        indexs = list(data.index)\n",
    "        emptyDf[g] = data[g]\n",
    "    \n",
    "    emptyDf.to_excel('./통합.xlsx', index_label=indexs, sheet_name='구별_통합.xlsx', engine='xlsxwriter')\n",
    "\n",
    "merge_data(['도봉구', '강남구', '노원구', '중랑구'])"
   ]
  },
  {
   "cell_type": "code",
   "execution_count": 17,
   "metadata": {},
   "outputs": [
    {
     "output_type": "execute_result",
     "data": {
      "text/plain": [
       "       0세    1세    2세    3세    4세    5세    6세    7세    8세    9세   10세\n",
       "자치구                                                                  \n",
       "노원구  2347  2572  2846  3160  3570  3761  3707  4099  4192  4549  4290\n",
       "강서구  3355  3528  3708  3919  4581  4482  4461  4623  4693  4548  4122\n",
       "강남구  2320  2567  2844  3062  3605  3913  4306  4890  4925  5332  5122"
      ],
      "text/html": "<div>\n<style scoped>\n    .dataframe tbody tr th:only-of-type {\n        vertical-align: middle;\n    }\n\n    .dataframe tbody tr th {\n        vertical-align: top;\n    }\n\n    .dataframe thead th {\n        text-align: right;\n    }\n</style>\n<table border=\"1\" class=\"dataframe\">\n  <thead>\n    <tr style=\"text-align: right;\">\n      <th></th>\n      <th>0세</th>\n      <th>1세</th>\n      <th>2세</th>\n      <th>3세</th>\n      <th>4세</th>\n      <th>5세</th>\n      <th>6세</th>\n      <th>7세</th>\n      <th>8세</th>\n      <th>9세</th>\n      <th>10세</th>\n    </tr>\n    <tr>\n      <th>자치구</th>\n      <th></th>\n      <th></th>\n      <th></th>\n      <th></th>\n      <th></th>\n      <th></th>\n      <th></th>\n      <th></th>\n      <th></th>\n      <th></th>\n      <th></th>\n    </tr>\n  </thead>\n  <tbody>\n    <tr>\n      <th>노원구</th>\n      <td>2347</td>\n      <td>2572</td>\n      <td>2846</td>\n      <td>3160</td>\n      <td>3570</td>\n      <td>3761</td>\n      <td>3707</td>\n      <td>4099</td>\n      <td>4192</td>\n      <td>4549</td>\n      <td>4290</td>\n    </tr>\n    <tr>\n      <th>강서구</th>\n      <td>3355</td>\n      <td>3528</td>\n      <td>3708</td>\n      <td>3919</td>\n      <td>4581</td>\n      <td>4482</td>\n      <td>4461</td>\n      <td>4623</td>\n      <td>4693</td>\n      <td>4548</td>\n      <td>4122</td>\n    </tr>\n    <tr>\n      <th>강남구</th>\n      <td>2320</td>\n      <td>2567</td>\n      <td>2844</td>\n      <td>3062</td>\n      <td>3605</td>\n      <td>3913</td>\n      <td>4306</td>\n      <td>4890</td>\n      <td>4925</td>\n      <td>5332</td>\n      <td>5122</td>\n    </tr>\n  </tbody>\n</table>\n</div>"
     },
     "metadata": {},
     "execution_count": 17
    }
   ],
   "source": [
    "\n",
    "\n",
    "\n",
    "# 30만명넘는 자치구만 필터링하기\n",
    "def get_big_city():\n",
    "    return seoul_data[seoul_data['합계'] > 500000]\n",
    "    \n",
    "big_city = get_big_city()\n",
    "\n",
    "\n",
    "# print(big_city)\n",
    "\n",
    "# 내가 원하는 인덱스갖는 행과 열만 출력하기\n",
    "# 시작행:종료행, 시작열, 정료열 \n",
    "teenage_data = big_city.iloc[0:3, 2:13] # 자치구중 50만명이상 인구를 가진 자치구의 0~10세 인구\n",
    "teenage_data"
   ]
  },
  {
   "cell_type": "code",
   "execution_count": 18,
   "metadata": {},
   "outputs": [
    {
     "output_type": "execute_result",
     "data": {
      "text/plain": [
       "자치구\n",
       "노원구    39093\n",
       "강서구    46020\n",
       "강남구    42886\n",
       "dtype: int64"
      ]
     },
     "metadata": {},
     "execution_count": 18
    }
   ],
   "source": [
    "# 자치구별 모든 행 총합\n",
    "teenage_data.sum(axis = 1)"
   ]
  },
  {
   "cell_type": "code",
   "execution_count": 19,
   "metadata": {},
   "outputs": [
    {
     "output_type": "execute_result",
     "data": {
      "text/plain": [
       "0세      8022\n",
       "1세      8667\n",
       "2세      9398\n",
       "3세     10141\n",
       "4세     11756\n",
       "5세     12156\n",
       "6세     12474\n",
       "7세     13612\n",
       "8세     13810\n",
       "9세     14429\n",
       "10세    13534\n",
       "dtype: int64"
      ]
     },
     "metadata": {},
     "execution_count": 19
    }
   ],
   "source": [
    "# 모든 열 총합\n",
    "teenage_data.sum(axis = 0)"
   ]
  },
  {
   "cell_type": "code",
   "execution_count": 20,
   "metadata": {},
   "outputs": [],
   "source": [
    "# 자치구별 모든 행 총합을 더하고 기존 시트에 더하기\n",
    "sum = pd.DataFrame(teenage_data.sum(axis = 1), columns = ['총합'])\n",
    "sum\n",
    "\n",
    "teenage_data = teenage_data.join(sum)"
   ]
  },
  {
   "cell_type": "code",
   "execution_count": 21,
   "metadata": {},
   "outputs": [
    {
     "output_type": "execute_result",
     "data": {
      "text/plain": [
       "       0세    1세    2세    3세    4세    5세    6세    7세    8세    9세   10세     총합\n",
       "자치구                                                                         \n",
       "강서구  3355  3528  3708  3919  4581  4482  4461  4623  4693  4548  4122  46020\n",
       "강남구  2320  2567  2844  3062  3605  3913  4306  4890  4925  5332  5122  42886\n",
       "노원구  2347  2572  2846  3160  3570  3761  3707  4099  4192  4549  4290  39093"
      ],
      "text/html": "<div>\n<style scoped>\n    .dataframe tbody tr th:only-of-type {\n        vertical-align: middle;\n    }\n\n    .dataframe tbody tr th {\n        vertical-align: top;\n    }\n\n    .dataframe thead th {\n        text-align: right;\n    }\n</style>\n<table border=\"1\" class=\"dataframe\">\n  <thead>\n    <tr style=\"text-align: right;\">\n      <th></th>\n      <th>0세</th>\n      <th>1세</th>\n      <th>2세</th>\n      <th>3세</th>\n      <th>4세</th>\n      <th>5세</th>\n      <th>6세</th>\n      <th>7세</th>\n      <th>8세</th>\n      <th>9세</th>\n      <th>10세</th>\n      <th>총합</th>\n    </tr>\n    <tr>\n      <th>자치구</th>\n      <th></th>\n      <th></th>\n      <th></th>\n      <th></th>\n      <th></th>\n      <th></th>\n      <th></th>\n      <th></th>\n      <th></th>\n      <th></th>\n      <th></th>\n      <th></th>\n    </tr>\n  </thead>\n  <tbody>\n    <tr>\n      <th>강서구</th>\n      <td>3355</td>\n      <td>3528</td>\n      <td>3708</td>\n      <td>3919</td>\n      <td>4581</td>\n      <td>4482</td>\n      <td>4461</td>\n      <td>4623</td>\n      <td>4693</td>\n      <td>4548</td>\n      <td>4122</td>\n      <td>46020</td>\n    </tr>\n    <tr>\n      <th>강남구</th>\n      <td>2320</td>\n      <td>2567</td>\n      <td>2844</td>\n      <td>3062</td>\n      <td>3605</td>\n      <td>3913</td>\n      <td>4306</td>\n      <td>4890</td>\n      <td>4925</td>\n      <td>5332</td>\n      <td>5122</td>\n      <td>42886</td>\n    </tr>\n    <tr>\n      <th>노원구</th>\n      <td>2347</td>\n      <td>2572</td>\n      <td>2846</td>\n      <td>3160</td>\n      <td>3570</td>\n      <td>3761</td>\n      <td>3707</td>\n      <td>4099</td>\n      <td>4192</td>\n      <td>4549</td>\n      <td>4290</td>\n      <td>39093</td>\n    </tr>\n  </tbody>\n</table>\n</div>"
     },
     "metadata": {},
     "execution_count": 21
    }
   ],
   "source": [
    "# 특정열을 기준으로 정렬\n",
    "teenage_data.sort_values(by='총합', ascending=False)"
   ]
  },
  {
   "cell_type": "code",
   "execution_count": 22,
   "metadata": {},
   "outputs": [],
   "source": [
    "import matplotlib.pyplot as plt\n",
    "# teenage_data.mean()\n",
    "plt.rcParams[\"font.size\"] = 12\n",
    "plt.rcParams[\"font.family\"] = 'malgun gothic'\n",
    "plt.rcParams['xtick.labelsize'] = 12.\n",
    "plt.rcParams['ytick.labelsize'] = 12."
   ]
  },
  {
   "cell_type": "code",
   "execution_count": 35,
   "metadata": {},
   "outputs": [
    {
     "output_type": "display_data",
     "data": {
      "text/plain": "<Figure size 432x288 with 1 Axes>",
      "image/svg+xml": "<?xml version=\"1.0\" encoding=\"utf-8\" standalone=\"no\"?>\r\n<!DOCTYPE svg PUBLIC \"-//W3C//DTD SVG 1.1//EN\"\r\n  \"http://www.w3.org/Graphics/SVG/1.1/DTD/svg11.dtd\">\r\n<!-- Created with matplotlib (https://matplotlib.org/) -->\r\n<svg height=\"267.72025pt\" version=\"1.1\" viewBox=\"0 0 398.585 267.72025\" width=\"398.585pt\" xmlns=\"http://www.w3.org/2000/svg\" xmlns:xlink=\"http://www.w3.org/1999/xlink\">\r\n <defs>\r\n  <style type=\"text/css\">\r\n*{stroke-linecap:butt;stroke-linejoin:round;}\r\n  </style>\r\n </defs>\r\n <g id=\"figure_1\">\r\n  <g id=\"patch_1\">\r\n   <path d=\"M 0 267.72025 \r\nL 398.585 267.72025 \r\nL 398.585 0 \r\nL 0 0 \r\nz\r\n\" style=\"fill:none;\"/>\r\n  </g>\r\n  <g id=\"axes_1\">\r\n   <g id=\"patch_2\">\r\n    <path d=\"M 56.585 241.57275 \r\nL 391.385 241.57275 \r\nL 391.385 24.13275 \r\nL 56.585 24.13275 \r\nz\r\n\" style=\"fill:#ffffff;\"/>\r\n   </g>\r\n   <g id=\"matplotlib.axis_1\">\r\n    <g id=\"xtick_1\">\r\n     <g id=\"line2d_1\">\r\n      <defs>\r\n       <path d=\"M 0 0 \r\nL 0 3.5 \r\n\" id=\"m362d81bd3d\" style=\"stroke:#000000;stroke-width:0.8;\"/>\r\n      </defs>\r\n      <g>\r\n       <use style=\"stroke:#000000;stroke-width:0.8;\" x=\"71.803182\" xlink:href=\"#m362d81bd3d\" y=\"241.57275\"/>\r\n      </g>\r\n     </g>\r\n     <g id=\"text_1\">\r\n      <!-- 0세 -->\r\n      <defs>\r\n       <path d=\"M 4.34375 34.46875 \r\nQ 4.34375 53.515625 10.546875 63.28125 \r\nQ 16.75 73.046875 28.421875 73.046875 \r\nQ 50.828125 73.046875 50.828125 36.234375 \r\nQ 50.828125 18.0625 44.59375 8.421875 \r\nQ 38.375 -1.21875 26.8125 -1.21875 \r\nQ 15.875 -1.21875 10.109375 8.125 \r\nQ 4.34375 17.484375 4.34375 34.46875 \r\nz\r\nM 12.25 34.859375 \r\nQ 12.25 5.375 27.640625 5.375 \r\nQ 42.921875 5.375 42.921875 35.296875 \r\nQ 42.921875 66.40625 28.03125 66.40625 \r\nQ 12.25 66.40625 12.25 34.859375 \r\nz\r\n\" id=\"MalgunGothic-48\"/>\r\n       <path d=\"M 78.71875 -8.796875 \r\nL 78.71875 85.40625 \r\nL 85.984375 85.40625 \r\nL 85.984375 -8.796875 \r\nz\r\nM 61.625 -5.90625 \r\nL 61.625 46.484375 \r\nL 45.21875 46.484375 \r\nL 45.21875 52.984375 \r\nL 61.625 52.984375 \r\nL 61.625 83.5 \r\nL 68.796875 83.5 \r\nL 68.796875 -5.90625 \r\nz\r\nM 48.6875 13.28125 \r\nQ 36.03125 25.734375 31 42.71875 \r\nQ 29.390625 35.796875 23.890625 26.90625 \r\nQ 18.40625 18.015625 12.109375 12.015625 \r\nL 6.390625 16.609375 \r\nQ 14.703125 22.46875 21.09375 35.125 \r\nQ 27.484375 47.796875 27.484375 59.90625 \r\nL 27.484375 78.515625 \r\nL 34.71875 78.515625 \r\nL 34.71875 59.8125 \r\nQ 34.71875 48.046875 40.453125 36.375 \r\nQ 46.1875 24.703125 54.203125 18.015625 \r\nz\r\n\" id=\"MalgunGothic-49464\"/>\r\n      </defs>\r\n      <g transform=\"translate(62.498494 257.683375)scale(0.12 -0.12)\">\r\n       <use xlink:href=\"#MalgunGothic-48\"/>\r\n       <use x=\"55.078125\" xlink:href=\"#MalgunGothic-49464\"/>\r\n      </g>\r\n     </g>\r\n    </g>\r\n    <g id=\"xtick_2\">\r\n     <g id=\"line2d_2\">\r\n      <g>\r\n       <use style=\"stroke:#000000;stroke-width:0.8;\" x=\"132.675909\" xlink:href=\"#m362d81bd3d\" y=\"241.57275\"/>\r\n      </g>\r\n     </g>\r\n     <g id=\"text_2\">\r\n      <!-- 2세 -->\r\n      <defs>\r\n       <path d=\"M 39.359375 52.6875 \r\nQ 39.359375 59.125 35.546875 62.78125 \r\nQ 31.734375 66.453125 25.4375 66.453125 \r\nQ 20.953125 66.453125 16.453125 64.125 \r\nQ 11.96875 61.8125 8.34375 57.765625 \r\nL 8.34375 66.15625 \r\nQ 15.328125 73.046875 26.421875 73.046875 \r\nQ 35.640625 73.046875 41.28125 67.71875 \r\nQ 46.921875 62.40625 46.921875 53.375 \r\nQ 46.921875 45.609375 43.3125 39.765625 \r\nQ 39.703125 33.9375 31 27.734375 \r\nQ 22.796875 21.96875 19.59375 18.984375 \r\nQ 16.40625 16.015625 15.109375 13.34375 \r\nQ 13.8125 10.6875 13.8125 7.03125 \r\nL 48.6875 7.03125 \r\nL 48.6875 0 \r\nL 5.5625 0 \r\nL 5.5625 3.515625 \r\nQ 5.5625 9.421875 7.203125 13.59375 \r\nQ 8.84375 17.78125 12.671875 21.75 \r\nQ 16.5 25.734375 24.953125 31.59375 \r\nQ 32.671875 36.921875 36.015625 41.71875 \r\nQ 39.359375 46.53125 39.359375 52.6875 \r\nz\r\n\" id=\"MalgunGothic-50\"/>\r\n      </defs>\r\n      <g transform=\"translate(123.371222 257.683375)scale(0.12 -0.12)\">\r\n       <use xlink:href=\"#MalgunGothic-50\"/>\r\n       <use x=\"55.078125\" xlink:href=\"#MalgunGothic-49464\"/>\r\n      </g>\r\n     </g>\r\n    </g>\r\n    <g id=\"xtick_3\">\r\n     <g id=\"line2d_3\">\r\n      <g>\r\n       <use style=\"stroke:#000000;stroke-width:0.8;\" x=\"193.548636\" xlink:href=\"#m362d81bd3d\" y=\"241.57275\"/>\r\n      </g>\r\n     </g>\r\n     <g id=\"text_3\">\r\n      <!-- 4세 -->\r\n      <defs>\r\n       <path d=\"M 42.234375 71.875 \r\nL 42.234375 24.421875 \r\nL 51.703125 24.421875 \r\nL 51.703125 17.390625 \r\nL 42.234375 17.390625 \r\nL 42.234375 0 \r\nL 34.578125 0 \r\nL 34.578125 17.390625 \r\nL 0.78125 17.390625 \r\nL 0.78125 23.96875 \r\nQ 11.375 35.890625 20.234375 48.578125 \r\nQ 29.109375 61.28125 33.9375 71.875 \r\nz\r\nM 9.765625 24.421875 \r\nL 34.578125 24.421875 \r\nL 34.578125 59.859375 \r\nQ 25.203125 43.5625 14.984375 30.953125 \r\nz\r\n\" id=\"MalgunGothic-52\"/>\r\n      </defs>\r\n      <g transform=\"translate(184.243949 257.683375)scale(0.12 -0.12)\">\r\n       <use xlink:href=\"#MalgunGothic-52\"/>\r\n       <use x=\"55.078125\" xlink:href=\"#MalgunGothic-49464\"/>\r\n      </g>\r\n     </g>\r\n    </g>\r\n    <g id=\"xtick_4\">\r\n     <g id=\"line2d_4\">\r\n      <g>\r\n       <use style=\"stroke:#000000;stroke-width:0.8;\" x=\"254.421364\" xlink:href=\"#m362d81bd3d\" y=\"241.57275\"/>\r\n      </g>\r\n     </g>\r\n     <g id=\"text_4\">\r\n      <!-- 6세 -->\r\n      <defs>\r\n       <path d=\"M 46.578125 63.578125 \r\nQ 40.921875 66.40625 34.8125 66.40625 \r\nQ 24.859375 66.40625 19.1875 57.640625 \r\nQ 13.53125 48.875 13.578125 34.578125 \r\nL 13.8125 34.578125 \r\nQ 18.796875 44.875 30.28125 44.875 \r\nQ 39.796875 44.875 45.359375 38.71875 \r\nQ 50.921875 32.5625 50.921875 22.65625 \r\nQ 50.921875 12.453125 44.640625 5.609375 \r\nQ 38.375 -1.21875 28.515625 -1.21875 \r\nQ 17.4375 -1.21875 11.5 7.46875 \r\nQ 5.5625 16.15625 5.5625 31.546875 \r\nQ 5.5625 49.703125 13.234375 61.375 \r\nQ 20.90625 73.046875 34.71875 73.046875 \r\nQ 42.1875 73.046875 46.578125 71 \r\nz\r\nM 14.15625 23.53125 \r\nQ 14.15625 15.96875 18.203125 10.671875 \r\nQ 22.265625 5.375 28.8125 5.375 \r\nQ 35.109375 5.375 39.03125 10.078125 \r\nQ 42.96875 14.796875 42.96875 21.6875 \r\nQ 42.96875 29.5 39.203125 33.859375 \r\nQ 35.453125 38.234375 28.71875 38.234375 \r\nQ 22.5625 38.234375 18.359375 33.953125 \r\nQ 14.15625 29.6875 14.15625 23.53125 \r\nz\r\n\" id=\"MalgunGothic-54\"/>\r\n      </defs>\r\n      <g transform=\"translate(245.116676 257.683375)scale(0.12 -0.12)\">\r\n       <use xlink:href=\"#MalgunGothic-54\"/>\r\n       <use x=\"55.078125\" xlink:href=\"#MalgunGothic-49464\"/>\r\n      </g>\r\n     </g>\r\n    </g>\r\n    <g id=\"xtick_5\">\r\n     <g id=\"line2d_5\">\r\n      <g>\r\n       <use style=\"stroke:#000000;stroke-width:0.8;\" x=\"315.294091\" xlink:href=\"#m362d81bd3d\" y=\"241.57275\"/>\r\n      </g>\r\n     </g>\r\n     <g id=\"text_5\">\r\n      <!-- 8세 -->\r\n      <defs>\r\n       <path d=\"M 4.734375 20.015625 \r\nQ 4.734375 26.078125 8.421875 31.421875 \r\nQ 12.109375 36.765625 18.015625 38.96875 \r\nQ 13.375 41.359375 10.546875 45.546875 \r\nQ 7.71875 49.75 7.71875 54.6875 \r\nQ 7.71875 59.8125 10.296875 64.03125 \r\nQ 12.890625 68.265625 17.53125 70.65625 \r\nQ 22.171875 73.046875 27.78125 73.046875 \r\nQ 36.46875 73.046875 42.1875 67.84375 \r\nQ 47.90625 62.640625 47.90625 54.6875 \r\nQ 47.90625 49.703125 45.015625 45.53125 \r\nQ 42.140625 41.359375 37.703125 38.96875 \r\nQ 43.5625 36.71875 47.21875 31.390625 \r\nQ 50.875 26.078125 50.875 20.015625 \r\nQ 50.875 10.5 44.421875 4.640625 \r\nQ 37.984375 -1.21875 27.78125 -1.21875 \r\nQ 17.671875 -1.21875 11.203125 4.703125 \r\nQ 4.734375 10.640625 4.734375 20.015625 \r\nz\r\nM 12.640625 20.75 \r\nQ 12.640625 13.71875 16.890625 9.546875 \r\nQ 21.140625 5.375 27.828125 5.375 \r\nQ 34.46875 5.375 38.78125 9.671875 \r\nQ 43.109375 13.96875 43.109375 20.75 \r\nQ 43.109375 27.046875 38.78125 31.421875 \r\nQ 34.46875 35.796875 27.828125 35.796875 \r\nQ 21.4375 35.796875 17.03125 31.5625 \r\nQ 12.640625 27.34375 12.640625 20.75 \r\nz\r\nM 15.671875 54.046875 \r\nQ 15.671875 48.828125 19.28125 45.3125 \r\nQ 22.90625 41.796875 27.828125 41.796875 \r\nQ 32.765625 41.796875 36.40625 45.3125 \r\nQ 40.046875 48.828125 40.046875 54.046875 \r\nQ 40.046875 59.421875 36.578125 62.90625 \r\nQ 33.109375 66.40625 27.828125 66.40625 \r\nQ 22.65625 66.40625 19.15625 62.953125 \r\nQ 15.671875 59.515625 15.671875 54.046875 \r\nz\r\n\" id=\"MalgunGothic-56\"/>\r\n      </defs>\r\n      <g transform=\"translate(305.989403 257.683375)scale(0.12 -0.12)\">\r\n       <use xlink:href=\"#MalgunGothic-56\"/>\r\n       <use x=\"55.078125\" xlink:href=\"#MalgunGothic-49464\"/>\r\n      </g>\r\n     </g>\r\n    </g>\r\n    <g id=\"xtick_6\">\r\n     <g id=\"line2d_6\">\r\n      <g>\r\n       <use style=\"stroke:#000000;stroke-width:0.8;\" x=\"376.166818\" xlink:href=\"#m362d81bd3d\" y=\"241.57275\"/>\r\n      </g>\r\n     </g>\r\n     <g id=\"text_6\">\r\n      <!-- 10세 -->\r\n      <defs>\r\n       <path d=\"M 34.859375 0 \r\nL 27.09375 0 \r\nL 27.09375 62.0625 \r\nQ 24.859375 59.8125 19.78125 57.203125 \r\nQ 14.703125 54.59375 10.5 53.5625 \r\nL 10.5 61.859375 \r\nQ 15.875 63.375 22.015625 66.796875 \r\nQ 28.171875 70.21875 31.734375 73.4375 \r\nL 34.859375 73.4375 \r\nz\r\n\" id=\"MalgunGothic-49\"/>\r\n      </defs>\r\n      <g transform=\"translate(363.557443 257.683375)scale(0.12 -0.12)\">\r\n       <use xlink:href=\"#MalgunGothic-49\"/>\r\n       <use x=\"55.078125\" xlink:href=\"#MalgunGothic-48\"/>\r\n       <use x=\"110.15625\" xlink:href=\"#MalgunGothic-49464\"/>\r\n      </g>\r\n     </g>\r\n    </g>\r\n   </g>\r\n   <g id=\"matplotlib.axis_2\">\r\n    <g id=\"ytick_1\">\r\n     <g id=\"line2d_7\">\r\n      <defs>\r\n       <path d=\"M 0 0 \r\nL -3.5 0 \r\n\" id=\"md59be70eaf\" style=\"stroke:#000000;stroke-width:0.8;\"/>\r\n      </defs>\r\n      <g>\r\n       <use style=\"stroke:#000000;stroke-width:0.8;\" x=\"56.585\" xlink:href=\"#md59be70eaf\" y=\"219.876002\"/>\r\n      </g>\r\n     </g>\r\n     <g id=\"text_7\">\r\n      <!-- 2500 -->\r\n      <defs>\r\n       <path d=\"M 48 21.921875 \r\nQ 48 11.28125 41.1875 5.03125 \r\nQ 34.375 -1.21875 22.953125 -1.21875 \r\nQ 12.9375 -1.21875 8.0625 1.765625 \r\nL 8.0625 10.15625 \r\nQ 15.53125 5.375 23.046875 5.375 \r\nQ 30.765625 5.375 35.46875 9.84375 \r\nQ 40.1875 14.3125 40.1875 21.4375 \r\nQ 40.1875 28.71875 35.390625 32.6875 \r\nQ 30.609375 36.671875 21.578125 36.671875 \r\nQ 15.53125 36.671875 9.421875 35.9375 \r\nL 11.859375 71.875 \r\nL 44.828125 71.875 \r\nL 44.828125 64.796875 \r\nL 18.84375 64.796875 \r\nL 17.28125 43.171875 \r\nQ 21.046875 43.5 24.171875 43.5 \r\nQ 35.359375 43.5 41.671875 37.71875 \r\nQ 48 31.9375 48 21.921875 \r\nz\r\n\" id=\"MalgunGothic-53\"/>\r\n      </defs>\r\n      <g transform=\"translate(23.1475 224.431315)scale(0.12 -0.12)\">\r\n       <use xlink:href=\"#MalgunGothic-50\"/>\r\n       <use x=\"55.078125\" xlink:href=\"#MalgunGothic-53\"/>\r\n       <use x=\"110.15625\" xlink:href=\"#MalgunGothic-48\"/>\r\n       <use x=\"165.234375\" xlink:href=\"#MalgunGothic-48\"/>\r\n      </g>\r\n     </g>\r\n    </g>\r\n    <g id=\"ytick_2\">\r\n     <g id=\"line2d_8\">\r\n      <g>\r\n       <use style=\"stroke:#000000;stroke-width:0.8;\" x=\"56.585\" xlink:href=\"#md59be70eaf\" y=\"187.061805\"/>\r\n      </g>\r\n     </g>\r\n     <g id=\"text_8\">\r\n      <!-- 3000 -->\r\n      <defs>\r\n       <path d=\"M 6.5 11.234375 \r\nQ 13.921875 5.375 23.09375 5.375 \r\nQ 30.609375 5.375 35.21875 9.171875 \r\nQ 39.84375 12.984375 39.84375 19.484375 \r\nQ 39.84375 33.890625 19.578125 33.890625 \r\nL 13.625 33.890625 \r\nL 13.625 40.484375 \r\nL 19.28125 40.484375 \r\nQ 37.3125 40.484375 37.3125 53.953125 \r\nQ 37.3125 66.40625 23.578125 66.40625 \r\nQ 15.96875 66.40625 9.28125 61.1875 \r\nL 9.28125 68.953125 \r\nQ 16.109375 73.046875 25.53125 73.046875 \r\nQ 34.125 73.046875 39.671875 68.3125 \r\nQ 45.21875 63.578125 45.21875 55.953125 \r\nQ 45.21875 41.84375 30.8125 37.640625 \r\nL 30.8125 37.5 \r\nQ 38.578125 36.8125 43.1875 32.078125 \r\nQ 47.796875 27.34375 47.796875 20.3125 \r\nQ 47.796875 10.5 40.6875 4.640625 \r\nQ 33.59375 -1.21875 22.65625 -1.21875 \r\nQ 12.59375 -1.21875 6.5 2.640625 \r\nz\r\n\" id=\"MalgunGothic-51\"/>\r\n      </defs>\r\n      <g transform=\"translate(23.1475 191.617117)scale(0.12 -0.12)\">\r\n       <use xlink:href=\"#MalgunGothic-51\"/>\r\n       <use x=\"55.078125\" xlink:href=\"#MalgunGothic-48\"/>\r\n       <use x=\"110.15625\" xlink:href=\"#MalgunGothic-48\"/>\r\n       <use x=\"165.234375\" xlink:href=\"#MalgunGothic-48\"/>\r\n      </g>\r\n     </g>\r\n    </g>\r\n    <g id=\"ytick_3\">\r\n     <g id=\"line2d_9\">\r\n      <g>\r\n       <use style=\"stroke:#000000;stroke-width:0.8;\" x=\"56.585\" xlink:href=\"#md59be70eaf\" y=\"154.247607\"/>\r\n      </g>\r\n     </g>\r\n     <g id=\"text_9\">\r\n      <!-- 3500 -->\r\n      <g transform=\"translate(23.1475 158.802919)scale(0.12 -0.12)\">\r\n       <use xlink:href=\"#MalgunGothic-51\"/>\r\n       <use x=\"55.078125\" xlink:href=\"#MalgunGothic-53\"/>\r\n       <use x=\"110.15625\" xlink:href=\"#MalgunGothic-48\"/>\r\n       <use x=\"165.234375\" xlink:href=\"#MalgunGothic-48\"/>\r\n      </g>\r\n     </g>\r\n    </g>\r\n    <g id=\"ytick_4\">\r\n     <g id=\"line2d_10\">\r\n      <g>\r\n       <use style=\"stroke:#000000;stroke-width:0.8;\" x=\"56.585\" xlink:href=\"#md59be70eaf\" y=\"121.433409\"/>\r\n      </g>\r\n     </g>\r\n     <g id=\"text_10\">\r\n      <!-- 4000 -->\r\n      <g transform=\"translate(23.1475 125.988722)scale(0.12 -0.12)\">\r\n       <use xlink:href=\"#MalgunGothic-52\"/>\r\n       <use x=\"55.078125\" xlink:href=\"#MalgunGothic-48\"/>\r\n       <use x=\"110.15625\" xlink:href=\"#MalgunGothic-48\"/>\r\n       <use x=\"165.234375\" xlink:href=\"#MalgunGothic-48\"/>\r\n      </g>\r\n     </g>\r\n    </g>\r\n    <g id=\"ytick_5\">\r\n     <g id=\"line2d_11\">\r\n      <g>\r\n       <use style=\"stroke:#000000;stroke-width:0.8;\" x=\"56.585\" xlink:href=\"#md59be70eaf\" y=\"88.619211\"/>\r\n      </g>\r\n     </g>\r\n     <g id=\"text_11\">\r\n      <!-- 4500 -->\r\n      <g transform=\"translate(23.1475 93.174524)scale(0.12 -0.12)\">\r\n       <use xlink:href=\"#MalgunGothic-52\"/>\r\n       <use x=\"55.078125\" xlink:href=\"#MalgunGothic-53\"/>\r\n       <use x=\"110.15625\" xlink:href=\"#MalgunGothic-48\"/>\r\n       <use x=\"165.234375\" xlink:href=\"#MalgunGothic-48\"/>\r\n      </g>\r\n     </g>\r\n    </g>\r\n    <g id=\"ytick_6\">\r\n     <g id=\"line2d_12\">\r\n      <g>\r\n       <use style=\"stroke:#000000;stroke-width:0.8;\" x=\"56.585\" xlink:href=\"#md59be70eaf\" y=\"55.805014\"/>\r\n      </g>\r\n     </g>\r\n     <g id=\"text_12\">\r\n      <!-- 5000 -->\r\n      <g transform=\"translate(23.1475 60.360326)scale(0.12 -0.12)\">\r\n       <use xlink:href=\"#MalgunGothic-53\"/>\r\n       <use x=\"55.078125\" xlink:href=\"#MalgunGothic-48\"/>\r\n       <use x=\"110.15625\" xlink:href=\"#MalgunGothic-48\"/>\r\n       <use x=\"165.234375\" xlink:href=\"#MalgunGothic-48\"/>\r\n      </g>\r\n     </g>\r\n    </g>\r\n    <g id=\"text_13\">\r\n     <!-- 인구수 -->\r\n     <defs>\r\n      <path d=\"M 77.296875 16.609375 \r\nL 77.296875 85.40625 \r\nL 84.625 85.40625 \r\nL 84.625 16.609375 \r\nz\r\nM 38.09375 33.984375 \r\nQ 27.546875 33.984375 20.453125 40.640625 \r\nQ 13.375 47.3125 13.375 57.90625 \r\nQ 13.375 68.5625 20.421875 75.171875 \r\nQ 27.484375 81.78125 38.09375 81.78125 \r\nQ 48.6875 81.78125 55.6875 75.1875 \r\nQ 62.703125 68.609375 62.703125 57.90625 \r\nQ 62.703125 47.3125 55.671875 40.640625 \r\nQ 48.640625 33.984375 38.09375 33.984375 \r\nz\r\nM 38.09375 75.296875 \r\nQ 30.375 75.296875 25.53125 70.5625 \r\nQ 20.703125 65.828125 20.703125 57.90625 \r\nQ 20.703125 50 25.515625 45.234375 \r\nQ 30.328125 40.484375 38.09375 40.484375 \r\nQ 45.84375 40.484375 50.671875 45.234375 \r\nQ 55.515625 50 55.515625 57.90625 \r\nQ 55.515625 65.828125 50.671875 70.5625 \r\nQ 45.84375 75.296875 38.09375 75.296875 \r\nz\r\nM 25.203125 -5.171875 \r\nL 25.203125 25.390625 \r\nL 32.515625 25.390625 \r\nL 32.515625 1.421875 \r\nL 87.109375 1.421875 \r\nL 87.109375 -5.171875 \r\nz\r\n\" id=\"MalgunGothic-51064\"/>\r\n      <path d=\"M 45.515625 -8.796875 \r\nL 45.515625 34.8125 \r\nL 6.296875 34.8125 \r\nL 6.296875 41.40625 \r\nL 71.78125 41.40625 \r\nQ 72.90625 52.984375 72.90625 74.8125 \r\nL 20.515625 74.8125 \r\nL 20.515625 81.296875 \r\nL 80.171875 81.296875 \r\nQ 80.171875 57.125 78.8125 41.40625 \r\nL 93.703125 41.40625 \r\nL 93.703125 34.8125 \r\nL 52.78125 34.8125 \r\nL 52.78125 -8.796875 \r\nz\r\n\" id=\"MalgunGothic-44396\"/>\r\n      <path d=\"M 85.796875 46.78125 \r\nQ 74.21875 48.390625 63.71875 54.65625 \r\nQ 53.21875 60.9375 50 66.796875 \r\nQ 46.484375 60.796875 36.078125 54.546875 \r\nQ 25.6875 48.296875 14.40625 46.1875 \r\nL 9.90625 52.296875 \r\nQ 24.359375 53.90625 35.328125 61.59375 \r\nQ 46.296875 69.28125 46.296875 78.328125 \r\nL 46.296875 82.421875 \r\nL 53.609375 82.421875 \r\nL 53.609375 78.328125 \r\nQ 53.609375 69.234375 64.34375 61.6875 \r\nQ 75.09375 54.15625 90.09375 52.78125 \r\nz\r\nM 53.609375 28.71875 \r\nL 53.609375 -8.796875 \r\nL 46.296875 -8.796875 \r\nL 46.296875 28.71875 \r\nL 6.296875 28.71875 \r\nL 6.296875 35.203125 \r\nL 93.703125 35.203125 \r\nL 93.703125 28.71875 \r\nz\r\n\" id=\"MalgunGothic-49688\"/>\r\n     </defs>\r\n     <g transform=\"translate(16.310625 150.85275)rotate(-90)scale(0.12 -0.12)\">\r\n      <use xlink:href=\"#MalgunGothic-51064\"/>\r\n      <use x=\"100\" xlink:href=\"#MalgunGothic-44396\"/>\r\n      <use x=\"200\" xlink:href=\"#MalgunGothic-49688\"/>\r\n     </g>\r\n    </g>\r\n   </g>\r\n   <g id=\"line2d_13\">\r\n    <path clip-path=\"url(#p67ac06a235)\" d=\"M 71.803182 229.917147 \r\nL 102.239545 215.150758 \r\nL 132.675909 197.168578 \r\nL 163.112273 176.561261 \r\nL 193.548636 149.653619 \r\nL 223.985 137.118596 \r\nL 254.421364 140.662529 \r\nL 284.857727 114.936198 \r\nL 315.294091 108.832757 \r\nL 345.730455 85.40342 \r\nL 376.166818 102.401174 \r\n\" style=\"fill:none;stroke:#1f77b4;stroke-linecap:square;stroke-width:1.5;\"/>\r\n   </g>\r\n   <g id=\"line2d_14\">\r\n    <path clip-path=\"url(#p67ac06a235)\" d=\"M 71.803182 163.763724 \r\nL 102.239545 152.410012 \r\nL 132.675909 140.596901 \r\nL 163.112273 126.749309 \r\nL 193.548636 83.303311 \r\nL 223.985 89.800523 \r\nL 254.421364 91.178719 \r\nL 284.857727 80.546919 \r\nL 315.294091 75.952931 \r\nL 345.730455 85.469048 \r\nL 376.166818 113.426745 \r\n\" style=\"fill:none;stroke:#ff7f0e;stroke-linecap:square;stroke-width:1.5;\"/>\r\n   </g>\r\n   <g id=\"line2d_15\">\r\n    <path clip-path=\"url(#p67ac06a235)\" d=\"M 71.803182 231.689114 \r\nL 102.239545 215.4789 \r\nL 132.675909 197.299834 \r\nL 163.112273 182.992844 \r\nL 193.548636 147.356625 \r\nL 223.985 127.14308 \r\nL 254.421364 101.35112 \r\nL 284.857727 63.024137 \r\nL 315.294091 60.727143 \r\nL 345.730455 34.016386 \r\nL 376.166818 47.798349 \r\n\" style=\"fill:none;stroke:#2ca02c;stroke-linecap:square;stroke-width:1.5;\"/>\r\n   </g>\r\n   <g id=\"patch_3\">\r\n    <path d=\"M 56.585 241.57275 \r\nL 56.585 24.13275 \r\n\" style=\"fill:none;stroke:#000000;stroke-linecap:square;stroke-linejoin:miter;stroke-width:0.8;\"/>\r\n   </g>\r\n   <g id=\"patch_4\">\r\n    <path d=\"M 391.385 241.57275 \r\nL 391.385 24.13275 \r\n\" style=\"fill:none;stroke:#000000;stroke-linecap:square;stroke-linejoin:miter;stroke-width:0.8;\"/>\r\n   </g>\r\n   <g id=\"patch_5\">\r\n    <path d=\"M 56.585 241.57275 \r\nL 391.385 241.57275 \r\n\" style=\"fill:none;stroke:#000000;stroke-linecap:square;stroke-linejoin:miter;stroke-width:0.8;\"/>\r\n   </g>\r\n   <g id=\"patch_6\">\r\n    <path d=\"M 56.585 24.13275 \r\nL 391.385 24.13275 \r\n\" style=\"fill:none;stroke:#000000;stroke-linecap:square;stroke-linejoin:miter;stroke-width:0.8;\"/>\r\n   </g>\r\n   <g id=\"text_14\">\r\n    <!-- 10세이하 인구 -->\r\n    <defs>\r\n     <path d=\"M 77.296875 -8.796875 \r\nL 77.296875 85.40625 \r\nL 84.625 85.40625 \r\nL 84.625 -8.796875 \r\nz\r\nM 35.6875 14.984375 \r\nQ 24.953125 14.984375 18.328125 23.65625 \r\nQ 11.71875 32.328125 11.71875 47.125 \r\nQ 11.71875 62.109375 18.265625 70.65625 \r\nQ 24.8125 79.203125 35.6875 79.203125 \r\nQ 46.53125 79.203125 53.171875 70.65625 \r\nQ 59.8125 62.109375 59.8125 47.125 \r\nQ 59.8125 32.234375 53.140625 23.609375 \r\nQ 46.484375 14.984375 35.6875 14.984375 \r\nz\r\nM 35.6875 72.703125 \r\nQ 28.171875 72.703125 23.484375 65.6875 \r\nQ 18.796875 58.6875 18.796875 47.125 \r\nQ 18.796875 35.59375 23.53125 28.53125 \r\nQ 28.265625 21.484375 35.6875 21.484375 \r\nQ 43.0625 21.484375 47.828125 28.5625 \r\nQ 52.59375 35.640625 52.59375 47.125 \r\nQ 52.59375 58.734375 47.921875 65.71875 \r\nQ 43.265625 72.703125 35.6875 72.703125 \r\nz\r\n\" id=\"MalgunGothic-51060\"/>\r\n     <path d=\"M 79.59375 35.59375 \r\nL 79.59375 -8.796875 \r\nL 72.3125 -8.796875 \r\nL 72.3125 85.40625 \r\nL 79.59375 85.40625 \r\nL 79.59375 42.09375 \r\nL 95.515625 42.09375 \r\nL 95.515625 35.59375 \r\nz\r\nM 7.328125 63.8125 \r\nL 7.328125 70.40625 \r\nL 31.59375 70.40625 \r\nL 31.59375 85.40625 \r\nL 38.921875 85.40625 \r\nL 38.921875 70.40625 \r\nL 63.28125 70.40625 \r\nL 63.28125 63.8125 \r\nz\r\nM 35.203125 14.59375 \r\nQ 24.8125 14.59375 18.21875 20.59375 \r\nQ 11.625 26.609375 11.625 35.5 \r\nQ 11.625 44.53125 18.21875 50.515625 \r\nQ 24.8125 56.5 35.296875 56.5 \r\nQ 45.75 56.5 52.359375 50.484375 \r\nQ 58.984375 44.484375 58.984375 35.40625 \r\nQ 58.984375 26.46875 52.359375 20.53125 \r\nQ 45.75 14.59375 35.203125 14.59375 \r\nz\r\nM 35.296875 50.296875 \r\nQ 28.078125 50.296875 23.4375 45.953125 \r\nQ 18.796875 41.609375 18.796875 35.5 \r\nQ 18.796875 29.4375 23.453125 25.109375 \r\nQ 28.125 20.796875 35.296875 20.796875 \r\nQ 42.484375 20.796875 47.140625 25.109375 \r\nQ 51.8125 29.4375 51.8125 35.5 \r\nQ 51.8125 41.609375 47.171875 45.953125 \r\nQ 42.53125 50.296875 35.296875 50.296875 \r\nz\r\n\" id=\"MalgunGothic-54616\"/>\r\n     <path id=\"MalgunGothic-32\"/>\r\n    </defs>\r\n    <g transform=\"translate(177.5225 18.13275)scale(0.144 -0.144)\">\r\n     <use xlink:href=\"#MalgunGothic-49\"/>\r\n     <use x=\"55.078125\" xlink:href=\"#MalgunGothic-48\"/>\r\n     <use x=\"110.15625\" xlink:href=\"#MalgunGothic-49464\"/>\r\n     <use x=\"210.15625\" xlink:href=\"#MalgunGothic-51060\"/>\r\n     <use x=\"310.15625\" xlink:href=\"#MalgunGothic-54616\"/>\r\n     <use x=\"410.15625\" xlink:href=\"#MalgunGothic-32\"/>\r\n     <use x=\"445.3125\" xlink:href=\"#MalgunGothic-51064\"/>\r\n     <use x=\"545.3125\" xlink:href=\"#MalgunGothic-44396\"/>\r\n    </g>\r\n   </g>\r\n   <g id=\"legend_1\">\r\n    <g id=\"patch_7\">\r\n     <path d=\"M 64.985 69.62775 \r\nL 232.985 69.62775 \r\nQ 235.385 69.62775 235.385 67.22775 \r\nL 235.385 32.53275 \r\nQ 235.385 30.13275 232.985 30.13275 \r\nL 64.985 30.13275 \r\nQ 62.585 30.13275 62.585 32.53275 \r\nL 62.585 67.22775 \r\nQ 62.585 69.62775 64.985 69.62775 \r\nz\r\n\" style=\"fill:#ffffff;opacity:0.8;stroke:#cccccc;stroke-linejoin:miter;\"/>\r\n    </g>\r\n    <g id=\"line2d_16\">\r\n     <path d=\"M 67.385 39.843375 \r\nL 91.385 39.843375 \r\n\" style=\"fill:none;stroke:#1f77b4;stroke-linecap:square;stroke-width:1.5;\"/>\r\n    </g>\r\n    <g id=\"line2d_17\"/>\r\n    <g id=\"text_15\">\r\n     <!-- 노원구 -->\r\n     <defs>\r\n      <path d=\"M 20.015625 77.09375 \r\nL 27.296875 77.09375 \r\nL 27.296875 44.28125 \r\nL 81.890625 44.28125 \r\nL 81.890625 37.703125 \r\nL 53.71875 37.703125 \r\nL 53.71875 12.984375 \r\nL 93.703125 12.984375 \r\nL 93.703125 6.390625 \r\nL 6.296875 6.390625 \r\nL 6.296875 12.984375 \r\nL 46.296875 12.984375 \r\nL 46.296875 37.703125 \r\nL 20.015625 37.703125 \r\nz\r\n\" id=\"MalgunGothic-45432\"/>\r\n      <path d=\"M 77.78125 10.890625 \r\nL 77.78125 21 \r\nL 57.171875 21 \r\nL 57.171875 27.484375 \r\nL 77.78125 27.484375 \r\nL 77.78125 85.40625 \r\nL 85.203125 85.40625 \r\nL 85.203125 10.890625 \r\nz\r\nM 41.015625 47.796875 \r\nQ 30.71875 47.796875 24.1875 52.96875 \r\nQ 17.671875 58.15625 17.671875 65.828125 \r\nQ 17.671875 73.390625 24.140625 78.53125 \r\nQ 30.609375 83.6875 41.015625 83.6875 \r\nQ 51.375 83.6875 57.84375 78.578125 \r\nQ 64.3125 73.484375 64.3125 65.828125 \r\nQ 64.3125 58.109375 57.8125 52.953125 \r\nQ 51.3125 47.796875 41.015625 47.796875 \r\nz\r\nM 41.015625 77.484375 \r\nQ 33.796875 77.484375 29.390625 73.96875 \r\nQ 25 70.453125 25 65.828125 \r\nQ 25 61.078125 29.390625 57.53125 \r\nQ 33.796875 54 41.015625 54 \r\nQ 48.25 54 52.65625 57.53125 \r\nQ 57.078125 61.078125 57.078125 65.828125 \r\nQ 57.078125 70.453125 52.65625 73.96875 \r\nQ 48.25 77.484375 41.015625 77.484375 \r\nz\r\nM 71.1875 35.796875 \r\nQ 64.0625 35.296875 45.015625 34.515625 \r\nL 45.015625 14.203125 \r\nL 37.796875 14.203125 \r\nL 37.796875 34.1875 \r\nQ 18.890625 33.5 10.015625 33.5 \r\nL 8.984375 40.28125 \r\nQ 44.578125 40.28125 70.703125 42.09375 \r\nz\r\nM 23.578125 -6.296875 \r\nL 23.578125 21.921875 \r\nL 30.90625 21.921875 \r\nL 30.90625 0.203125 \r\nL 87.5 0.203125 \r\nL 87.5 -6.296875 \r\nz\r\n\" id=\"MalgunGothic-50896\"/>\r\n     </defs>\r\n     <g transform=\"translate(100.985 44.043375)scale(0.12 -0.12)\">\r\n      <use xlink:href=\"#MalgunGothic-45432\"/>\r\n      <use x=\"100\" xlink:href=\"#MalgunGothic-50896\"/>\r\n      <use x=\"200\" xlink:href=\"#MalgunGothic-44396\"/>\r\n     </g>\r\n    </g>\r\n    <g id=\"line2d_18\">\r\n     <path d=\"M 67.385 57.790875 \r\nL 91.385 57.790875 \r\n\" style=\"fill:none;stroke:#ff7f0e;stroke-linecap:square;stroke-width:1.5;\"/>\r\n    </g>\r\n    <g id=\"line2d_19\"/>\r\n    <g id=\"text_16\">\r\n     <!-- 강서구 -->\r\n     <defs>\r\n      <path d=\"M 80.078125 52.6875 \r\nL 80.078125 31.390625 \r\nL 72.796875 31.390625 \r\nL 72.796875 85.40625 \r\nL 80.078125 85.40625 \r\nL 80.078125 59.515625 \r\nL 94.28125 59.515625 \r\nL 94.28125 52.6875 \r\nz\r\nM 54.890625 79.890625 \r\nQ 53.078125 60.15625 39.859375 47.484375 \r\nQ 26.65625 34.8125 12.40625 29.203125 \r\nL 7.171875 35.109375 \r\nQ 21.6875 39.703125 32.9375 50.390625 \r\nQ 44.1875 61.078125 46.296875 73.390625 \r\nL 12.984375 73.390625 \r\nL 12.984375 79.890625 \r\nz\r\nM 50.984375 -7.078125 \r\nQ 36.328125 -7.078125 28.21875 -2 \r\nQ 20.125 3.078125 20.125 11.1875 \r\nQ 20.125 19.234375 28.171875 24.3125 \r\nQ 36.234375 29.390625 50.984375 29.390625 \r\nQ 65.875 29.390625 73.921875 24.328125 \r\nQ 81.984375 19.28125 81.984375 11.1875 \r\nQ 81.984375 3.078125 73.84375 -2 \r\nQ 65.71875 -7.078125 50.984375 -7.078125 \r\nz\r\nM 50.984375 23.09375 \r\nQ 39.984375 23.09375 33.875 19.765625 \r\nQ 27.78125 16.453125 27.78125 11.1875 \r\nQ 27.78125 5.90625 33.78125 2.5625 \r\nQ 39.796875 -0.78125 50.984375 -0.78125 \r\nQ 62.203125 -0.78125 68.203125 2.5625 \r\nQ 74.21875 5.90625 74.21875 11.1875 \r\nQ 74.21875 16.453125 68.109375 19.765625 \r\nQ 62.015625 23.09375 50.984375 23.09375 \r\nz\r\n\" id=\"MalgunGothic-44053\"/>\r\n      <path d=\"M 77.296875 -8.796875 \r\nL 77.296875 48 \r\nL 55.328125 48 \r\nL 55.328125 54.5 \r\nL 77.296875 54.5 \r\nL 77.296875 85.40625 \r\nL 84.625 85.40625 \r\nL 84.625 -8.796875 \r\nz\r\nM 58.984375 15.09375 \r\nQ 51.078125 21.140625 44.15625 30.296875 \r\nQ 37.25 39.453125 35.40625 46.09375 \r\nQ 33.15625 38.484375 26.46875 29.25 \r\nQ 19.78125 20.015625 11.921875 13.921875 \r\nL 6.296875 18.796875 \r\nQ 17.921875 26.609375 24.796875 38.734375 \r\nQ 31.6875 50.875 31.6875 63.484375 \r\nL 31.6875 78.90625 \r\nL 38.921875 78.90625 \r\nL 38.921875 63.8125 \r\nQ 38.921875 51.609375 45.734375 39.9375 \r\nQ 52.546875 28.265625 64.109375 20.796875 \r\nz\r\n\" id=\"MalgunGothic-49436\"/>\r\n     </defs>\r\n     <g transform=\"translate(100.985 61.990875)scale(0.12 -0.12)\">\r\n      <use xlink:href=\"#MalgunGothic-44053\"/>\r\n      <use x=\"100\" xlink:href=\"#MalgunGothic-49436\"/>\r\n      <use x=\"200\" xlink:href=\"#MalgunGothic-44396\"/>\r\n     </g>\r\n    </g>\r\n    <g id=\"line2d_20\">\r\n     <path d=\"M 160.985 39.843375 \r\nL 184.985 39.843375 \r\n\" style=\"fill:none;stroke:#2ca02c;stroke-linecap:square;stroke-width:1.5;\"/>\r\n    </g>\r\n    <g id=\"line2d_21\"/>\r\n    <g id=\"text_17\">\r\n     <!-- 강남구 -->\r\n     <defs>\r\n      <path d=\"M 80.078125 55.90625 \r\nL 80.078125 33.109375 \r\nL 72.796875 33.109375 \r\nL 72.796875 85.40625 \r\nL 80.078125 85.40625 \r\nL 80.078125 62.5 \r\nL 94.28125 62.5 \r\nL 94.28125 55.90625 \r\nz\r\nM 66.609375 44.28125 \r\nQ 58.453125 42.09375 14.3125 42.09375 \r\nL 14.3125 81.59375 \r\nL 21.578125 81.59375 \r\nL 21.578125 48.578125 \r\nL 28.03125 48.578125 \r\nQ 55.515625 48.578125 65.71875 50.59375 \r\nz\r\nM 22.90625 -6.59375 \r\nL 22.90625 27.875 \r\nL 80.078125 27.875 \r\nL 80.078125 -6.59375 \r\nz\r\nM 72.90625 21.390625 \r\nL 30.078125 21.390625 \r\nL 30.078125 -0.09375 \r\nL 72.90625 -0.09375 \r\nz\r\n\" id=\"MalgunGothic-45224\"/>\r\n     </defs>\r\n     <g transform=\"translate(194.585 44.043375)scale(0.12 -0.12)\">\r\n      <use xlink:href=\"#MalgunGothic-44053\"/>\r\n      <use x=\"100\" xlink:href=\"#MalgunGothic-45224\"/>\r\n      <use x=\"200\" xlink:href=\"#MalgunGothic-44396\"/>\r\n     </g>\r\n    </g>\r\n   </g>\r\n  </g>\r\n </g>\r\n <defs>\r\n  <clipPath id=\"p67ac06a235\">\r\n   <rect height=\"217.44\" width=\"334.8\" x=\"56.585\" y=\"24.13275\"/>\r\n  </clipPath>\r\n </defs>\r\n</svg>\r\n",
      "image/png": "[encoded data removed]"
     },
     "metadata": {
      "needs_background": "light"
     }
    }
   ],
   "source": [
    "chart = teenage_data.T.loc[:'10세'].plot(title='10세이하 인구')\n",
    "plt.legend(teenage_data.index, loc='left', markerfirst=True, title_fontsize=5, ncol=2)\n",
    "chart.set_ylabel('인구수')\n",
    "\n",
    "plt.savefig('./chart_img.png', dpi = 400)\n"
   ]
  },
  {
   "source": [
    "## 엑셀 내부에 데이터와 시각화이미지를 넣기"
   ],
   "cell_type": "markdown",
   "metadata": {}
  },
  {
   "cell_type": "code",
   "execution_count": 40,
   "metadata": {},
   "outputs": [],
   "source": [
    "# 엑셀에디터 객체 생성\n",
    "excel_writer = pd.ExcelWriter('자치구0_10세_인구.xlsx', engine='xlsxwriter')\n",
    "\n",
    "# 데이터를 엑셀 객체에 씀\n",
    "teenage_data.to_excel(excel_writer, index=True, sheet_name='자치구0_10세_인구')\n",
    "\n",
    "# worksheet 생성\n",
    "worksheet = excel_writer.sheets['자치구0_10세_인구']\n",
    "\n",
    "# 워크시트에 차트가 들어갈 위치를 지정해 이미지 넣기\n",
    "imgUrl = './chart_img.png'\n",
    "size= len(teenage_data.T.index)\n",
    "worksheet.insert_image(1, size + 1, imgUrl, {'x_scale': 1, 'y_scale': 1})\n",
    "\n",
    "# ExcelWriter 객체를 닫고 엑셀 저장\n",
    "excel_writer.save()\n",
    "\n"
   ]
  },
  {
   "source": [
    "## 엑셀 내부에 엑셀 차트 작성하기"
   ],
   "cell_type": "markdown",
   "metadata": {}
  },
  {
   "cell_type": "code",
   "execution_count": 45,
   "metadata": {},
   "outputs": [],
   "source": [
    "# 엑셀에디터 객체 생성\n",
    "excel_writer = pd.ExcelWriter('자치구0_10세_인구_with_chart.xlsx', engine='xlsxwriter')\n",
    "\n",
    "\n",
    "sheet_name = '자치구0_10세_인구'\n",
    "# 데이터를 엑셀 객체에 씀\n",
    "teenage_data.to_excel(excel_writer, index=True, sheet_name=sheet_name)\n",
    "\n",
    "# worksheet 생성\n",
    "workbook = excel_writer.book\n",
    "worksheet = excel_writer.sheets[sheet_name]\n",
    "\n",
    "# 차트객체 생성\n",
    "native_chart = workbook.add_chart({'type': 'line'})\n",
    "\n",
    "# 생성된 차트객체에 대한 데이터값 범위지정\n",
    "native_chart.add_series({'values': f'={sheet_name}!$B$2:$L$2', 'name': f'{sheet_name}!A$2', 'categories': f'{sheet_name}!$B$1:$L$1'})\n",
    "native_chart.add_series({'values': f'={sheet_name}!$B$3:$L$3', 'name': f'{sheet_name}!A$3', 'categories': f'{sheet_name}!$B$1:$L$1'})\n",
    "native_chart.add_series({'values': f'={sheet_name}!$B$4:$L$4', 'name': f'{sheet_name}!A$4', 'categories': f'{sheet_name}!$B$1:$L$1'})\n",
    "\n",
    "native_chart.set_title({'name': '자치구별 0~10세 인구수'})\n",
    "native_chart.set_x_axis({'name': '나이'})\n",
    "native_chart.set_y_axis({'name': '인구 수'})\n",
    "\n",
    "# 워크시트에 차트넣기\n",
    "size= len(teenage_data.T.index)\n",
    "worksheet.insert_chart(1, 1+size, native_chart)\n",
    "\n",
    "excel_writer.save()\n",
    "\n"
   ]
  },
  {
   "cell_type": "code",
   "execution_count": null,
   "metadata": {},
   "outputs": [],
   "source": []
  }
 ],
 "metadata": {
  "kernelspec": {
   "display_name": "Python 3",
   "language": "python",
   "name": "python3"
  },
  "language_info": {
   "codemirror_mode": {
    "name": "ipython",
    "version": 3
   },
   "file_extension": ".py",
   "mimetype": "text/x-python",
   "name": "python",
   "nbconvert_exporter": "python",
   "pygments_lexer": "ipython3",
   "version": "3.8.3-final"
  }
 },
 "nbformat": 4,
 "nbformat_minor": 4
}