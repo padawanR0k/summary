{
 "cells": [
  {
   "cell_type": "code",
   "execution_count": 45,
   "metadata": {},
   "outputs": [],
   "source": [
    "\n",
    "import pandas as pd\n",
    "import numpy as np\n",
    "import math"
   ]
  },
  {
   "cell_type": "code",
   "execution_count": 59,
   "metadata": {
    "tags": []
   },
   "outputs": [
    {
     "output_type": "stream",
     "name": "stdout",
     "text": [
      "Index(['의료기관번호', '기관명', '기관분류', '기관장명', '코디네이터', '이메일', '지역구분(구,동)', '주소',\n       '상세주소', '우편번호', '홈페이지주소', '병상수', '의료진', '면적', '기관소개', '지도좌표(X)',\n       '지도좌표(Y)', '전문분야', '유치업등록번호', '보험정보', '공항까지의거리', '택시교통편', '기타교통편',\n       '적용여부', '한줄소개', '보유장비', '부가정보', '등록일', '최종수정', '상담가능언어', '분류코드',\n       '기관종업원수', '처치실수', '마취가능의사상주여부', '심장제세동기설치여부', '기관인증'],\n      dtype='object')\nRangeIndex(start=0, stop=252, step=1)\n"
     ]
    }
   ],
   "source": [
    "\n",
    "def excel_to_pd(fileURL):\n",
    "    excel = pd.read_excel(fileURL)\n",
    "    print(excel.columns)\n",
    "    print(excel.index)\n",
    "    excel = excel[['기관명', '주소', '홈페이지주소', '처치실수', '공항까지의거리', '한줄소개']]\n",
    "\n",
    "    for colurm in excel:\n",
    "        for i in excel.index:\n",
    "            \n",
    "            #print(f'excel[colurm][i]: {excel[colurm][i]} {type(excel[colurm][i])} ')\n",
    "            try:\n",
    "                if type(excel[colurm][i]) != 'str' and np.isnan(int(excel[colurm][i])):\n",
    "                    excel[colurm][i] = '-'\n",
    "            except:\n",
    "                pass\n",
    "    \n",
    "    return excel\n",
    "\n",
    "\n",
    "data = excel_to_pd('./ganam_medical_treval.xls')\n",
    "\n",
    "data.to_excel('./ganam_medical_treval_filtered.xls')\n"
   ]
  },
  {
   "cell_type": "code",
   "execution_count": null,
   "metadata": {},
   "outputs": [],
   "source": [
    "\n",
    "\n"
   ]
  }
 ],
 "metadata": {
  "kernelspec": {
   "display_name": "Python 3",
   "language": "python",
   "name": "python3"
  },
  "language_info": {
   "codemirror_mode": {
    "name": "ipython",
    "version": 3
   },
   "file_extension": ".py",
   "mimetype": "text/x-python",
   "name": "python",
   "nbconvert_exporter": "python",
   "pygments_lexer": "ipython3",
   "version": "3.8.3-final"
  }
 },
 "nbformat": 4,
 "nbformat_minor": 4
}