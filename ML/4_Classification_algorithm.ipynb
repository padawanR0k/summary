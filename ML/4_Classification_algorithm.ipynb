{
  "nbformat": 4,
  "nbformat_minor": 0,
  "metadata": {
    "colab": {
      "name": "4_Classification_algorithm.ipynb",
      "provenance": [],
      "collapsed_sections": []
    },
    "kernelspec": {
      "name": "python3",
      "display_name": "Python 3"
    }
  },
  "cells": [
    {
      "cell_type": "markdown",
      "metadata": {
        "id": "pB4QYvGPSeEt"
      },
      "source": [
        "# 다양한 분류 알고리즘\n",
        "\n",
        "- multi classification\n",
        "- logistic regression\n",
        "- sigmooid function\n",
        "\n",
        "## 랜덤박스 상품\n",
        "- 내용물이 공개되지않은채로 구매자가 구매하는 상품. 내용물엔 판매금액보다 더 싸거나 더 비싼게 들어있다.\n",
        "- 럭키백 구매를 유도하기 위해 각 상품내부에 무엇이 들어있을지 확률을 표기하려면 어떻게 해야할까?\n"
      ]
    },
    {
      "cell_type": "code",
      "metadata": {
        "colab": {
          "base_uri": "https://localhost:8080/"
        },
        "id": "1RU8fJSdRWOC",
        "outputId": "8d314110-9ddc-44d7-eb29-66a129103cff"
      },
      "source": [
        "import pandas as pd\n",
        "fish = pd.read_csv('https://bit.ly/fish_csv')\n",
        "fish.head()\n",
        "\n",
        "print(f'생선의 종류들 {pd.unique(fish[\"Species\"])} \\n=> Y가 될 항목들')\n",
        "\n",
        "X_fish = fish[['Weight', 'Length', 'Diagonal', 'Height', 'Width']].to_numpy()\n",
        "y_fish = fish[\"Species\"].to_numpy()\n",
        "\n",
        "\n",
        "# data set 분리\n",
        "from sklearn.model_selection import train_test_split\n",
        "X_train, X_test, y_train, y_test = train_test_split(X_fish, y_fish, random_state=42) \n",
        "\n",
        "# 데이터 표준화 전처리\n",
        "from sklearn.preprocessing import StandardScaler\n",
        "ss = StandardScaler()\n",
        "ss.fit(X_train)\n",
        "train_scaled = ss.transform(X_train)\n",
        "test_scaled = ss.transform(X_test)\n",
        "print(f'StandardScaler 데이터 표준화 전처리 (값의 스케일이 달라서 생기는 오류를 없에기위해) \\n  {X_train[:5, 0]} -> {train_scaled[:5, 0]}')\n",
        "\n",
        "from sklearn.neighbors import KNeighborsClassifier\n",
        "kn = KNeighborsClassifier(n_neighbors=3)\n",
        "kn.fit(train_scaled, y_train)\n",
        "print(kn.score(train_scaled, y_train))\n",
        "print(kn.score(test_scaled, y_test))\n",
        "\n",
        "# \n",
        "print(f'KNeighborsClassifier로 다중분류되어 정렬된 타깃값들: {kn.classes_}')\n",
        "\n",
        "print(kn.predict(test_scaled[:5]))"
      ],
      "execution_count": 28,
      "outputs": [
        {
          "output_type": "stream",
          "text": [
            "생선의 종류들 ['Bream' 'Roach' 'Whitefish' 'Parkki' 'Perch' 'Pike' 'Smelt'] \n",
            "=> Y가 될 항목들\n",
            "StandardScaler 데이터 표준화 전처리 (값의 스케일이 달라서 생기는 오류를 없에기위해) \n",
            "  [720.  500.    7.5 110.  140. ] -> [ 0.91965782  0.30041219 -1.0858536  -0.79734143 -0.71289885]\n",
            "0.8907563025210085\n",
            "0.85\n",
            "KNeighborsClassifier로 다중분류되어 정렬된 타깃값들: ['Bream' 'Parkki' 'Perch' 'Pike' 'Roach' 'Smelt' 'Whitefish']\n",
            "['Perch' 'Smelt' 'Pike' 'Perch' 'Perch']\n"
          ],
          "name": "stdout"
        }
      ]
    },
    {
      "cell_type": "markdown",
      "metadata": {
        "id": "2gBsxWqHihvc"
      },
      "source": [
        "###  KNeighborsClassifier 의 예측 과정\n",
        "1. predict_proba() 로 클래스별 확률을 측정함\n",
        "2. 그중 가장 큰 확률값의 컬럼을 반환함"
      ]
    },
    {
      "cell_type": "code",
      "metadata": {
        "colab": {
          "base_uri": "https://localhost:8080/"
        },
        "id": "43lxWgVii0_T",
        "outputId": "e005cf76-d332-4f4b-9ae4-8467b8b4fee2"
      },
      "source": [
        "import numpy as np\n",
        "proba = kn.predict_proba(test_scaled[:5])\n",
        "print(np.round(proba, decimals=4)) # 예측값에 대해 넷째자리까지 표시한다.\n",
        "\n",
        "distances, indexes = kn.kneighbors(test_scaled[3:4])\n",
        "print(f'{test_scaled[3:4][0]} <- 이 데이터의 이웃 클래스 3개는')\n",
        "print(f'{indexes[0]} 이다. 해당 항목들에 대한 예측값들은 다음과 같다.')\n",
        "print(f'{y_train[indexes][0]} Perch가 2개이므로. \\n {test_scaled[3:4]} 데이터는 Perch일 확률이 67%이다.')\n",
        "# 그런데 이런 방식으로는 표현 가능한 확률이 0/3, 1/3, 2/3, 3/3 뿐이다... -> 이웃의 갯수 n + 1개"
      ],
      "execution_count": 40,
      "outputs": [
        {
          "output_type": "stream",
          "text": [
            "[[0.     0.     1.     0.     0.     0.     0.    ]\n",
            " [0.     0.     0.     0.     0.     1.     0.    ]\n",
            " [0.     0.     0.     1.     0.     0.     0.    ]\n",
            " [0.     0.     0.6667 0.     0.3333 0.     0.    ]\n",
            " [0.     0.     0.6667 0.     0.3333 0.     0.    ]]\n",
            "[-0.34698097 -0.23396068 -0.22320459 -0.11905019 -0.12233464] <- 이 데이터의 이웃 클래스 3개는\n",
            "[104 115 106] 이다. 해당 항목들에 대한 예측값들은 다음과 같다.\n",
            "['Roach' 'Perch' 'Perch'] Perch가 2개이므로. \n",
            " [[-0.34698097 -0.23396068 -0.22320459 -0.11905019 -0.12233464]] 데이터는 Perch일 확률이 67%이다.\n"
          ],
          "name": "stdout"
        }
      ]
    },
    {
      "cell_type": "markdown",
      "metadata": {
        "id": "iIwsD2wSlHKh"
      },
      "source": [
        "## 로지스틱 회귀 (logistic regression)\n",
        "- 회귀는 보통 예측에 사용되지만, 이 알고리즘은 분류 모델이다.\n",
        "- z = a * 'Weight' + b * 'Length' + c * 'Diagonal' + d * 'Height' + e * 'Width' + f\n",
        "  - 여기서 z를 확률로 표현하기 위해 0~1 사이의 값을 만들어야한다.\n",
        "  - 이때 사용되는 것이 시그모이드 함수 (=== 로지스틱함수) 이다.\n",
        "  "
      ]
    },
    {
      "cell_type": "markdown",
      "metadata": {
        "id": "RL9ZwxEguHtH"
      },
      "source": [
        "### 로지스틱 회귀로 이진 분류"
      ]
    },
    {
      "cell_type": "code",
      "metadata": {
        "colab": {
          "base_uri": "https://localhost:8080/",
          "height": 282
        },
        "id": "LCPguLRpmIUq",
        "outputId": "b30265ea-636f-489a-eaf3-620895883dd1"
      },
      "source": [
        "import numpy as np\n",
        "import matplotlib.pyplot as plt\n",
        "\n",
        "print('시그모이드 함수 예시')\n",
        "z = np.arange(-5, 5, 0.1)\n",
        "phi = 1 / (1 + np.exp(-z))\n",
        "# print(phi)\n",
        "plt.plot(z, phi)\n",
        "plt.show()\n",
        "print(f'x 값이 큰 음수일 수록 0에 가까워지고 큰 양수일수록 1에 가까워진다.')"
      ],
      "execution_count": 46,
      "outputs": [
        {
          "output_type": "display_data",
          "data": {
            "image/png": "[encoded data removed]",
            "text/plain": [
              "<Figure size 432x288 with 1 Axes>"
            ]
          },
          "metadata": {
            "tags": [],
            "needs_background": "light"
          }
        },
        {
          "output_type": "stream",
          "text": [
            "x 값이 큰 음수일 수록 0에 가까워지고 큰 양수일수록 1에 가까워진다.\n"
          ],
          "name": "stdout"
        }
      ]
    },
    {
      "cell_type": "code",
      "metadata": {
        "colab": {
          "base_uri": "https://localhost:8080/"
        },
        "id": "RJI6eoO1qqHp",
        "outputId": "0af23439-4a99-4ca8-c5f7-fc4c7c2da8a8"
      },
      "source": [
        "bream_smelt_indexes = (y_train == 'Bream') | (y_train == 'Smelt')\n",
        "train_bream_smelt = train_scaled[bream_smelt_indexes]\n",
        "target_bream_smelt = y_train[bream_smelt_indexes]\n",
        "\n",
        "from sklearn.linear_model import LogisticRegression\n",
        "lr = LogisticRegression()\n",
        "lr.fit(train_bream_smelt, target_bream_smelt)\n",
        "print(lr.predict(train_bream_smelt[:5]))\n",
        "print('    음성클래스  |    양성클래스')\n",
        "print(lr.classes_)\n",
        "print(lr.predict_proba(train_bream_smelt[:5]))\n",
        "print('모델의 계수들과 bias')\n",
        "print(lr.coef_, lr.intercept_)"
      ],
      "execution_count": 70,
      "outputs": [
        {
          "output_type": "stream",
          "text": [
            "['Bream' 'Smelt' 'Bream' 'Bream' 'Bream']\n",
            "    음성클래스  |    양성클래스\n",
            "['Bream' 'Smelt']\n",
            "[[0.99759855 0.00240145]\n",
            " [0.02735183 0.97264817]\n",
            " [0.99486072 0.00513928]\n",
            " [0.98584202 0.01415798]\n",
            " [0.99767269 0.00232731]]\n",
            "모델의 계수들과 bias\n",
            "[[-0.4037798  -0.57620209 -0.66280298 -1.01290277 -0.73168947]] [-2.16155132]\n"
          ],
          "name": "stdout"
        }
      ]
    },
    {
      "cell_type": "markdown",
      "metadata": {
        "id": "espt1NuguCWm"
      },
      "source": [
        "### 로지스틱 회귀로 다중 분류\n",
        "- 기본적으로 반복적인 알고리즘을 사용함\n",
        "  - max_iter (반복횟수 = 100)\n",
        "- 릿지 회귀와 같이 계수의 제곱을 규제함 (L2 규제라고 부른다)\n",
        "- 규제를 제어하는 매개변수는 C = 1 (릿지와 러쏘에서는 alpha) "
      ]
    },
    {
      "cell_type": "code",
      "metadata": {
        "colab": {
          "base_uri": "https://localhost:8080/"
        },
        "id": "ghX-Fdqbsc-a",
        "outputId": "a8606467-47d5-4a50-9f5d-14e3312e6010"
      },
      "source": [
        " lr = LogisticRegression(C=20, max_iter= 1000)\n",
        " lr.fit(train_scaled, y_train)\n",
        " print(lr.score(train_scaled, y_train))\n",
        " print(lr.score(test_scaled, y_test))"
      ],
      "execution_count": 76,
      "outputs": [
        {
          "output_type": "stream",
          "text": [
            "0.9327731092436975\n",
            "0.925\n"
          ],
          "name": "stdout"
        }
      ]
    },
    {
      "cell_type": "code",
      "metadata": {
        "colab": {
          "base_uri": "https://localhost:8080/"
        },
        "id": "I0BszlybvGx-",
        "outputId": "d590c4e1-ce0a-48aa-f1d5-6db0d1fb0e2f"
      },
      "source": [
        "proba = lr.predict_proba(test_scaled[:5])\n",
        "print(f'y_test[:5]: {y_test[:5]}')\n",
        "print(f'lr.classes_: {lr.classes_}')\n",
        "print(f'np.round(proba, decimals=3): {np.round(proba, decimals=3)}')\n",
        "print(f'lr.coef_.shape, lr.intercept_.shape: {lr.coef_.shape, lr.intercept_.shape}')\n",
        "# 행의 갯수만큼 이진 분류에서 보았던 z을 계산한다.\n",
        "# 다중 분류는 소프트맥스 함수를 이용해 7개의 z값을 확률로 계산한다.\n",
        "\n",
        "result = np.round(proba, decimals=3)\n",
        "\n",
        "for i, item in enumerate(y_test[:5]):\n",
        "  my_predict = list(result[i])\n",
        "  answer = my_predict.index(max(my_predict))\n",
        "  print(item, lr.classes_[answer], 'O' if item == lr.classes_[answer] else 'X')"
      ],
      "execution_count": 125,
      "outputs": [
        {
          "output_type": "stream",
          "text": [
            "y_test[:5]: ['Perch' 'Smelt' 'Pike' 'Whitefish' 'Perch']\n",
            "lr.classes_: ['Bream' 'Parkki' 'Perch' 'Pike' 'Roach' 'Smelt' 'Whitefish']\n",
            "np.round(proba, decimals=3): [[0.    0.014 0.841 0.    0.136 0.007 0.003]\n",
            " [0.    0.003 0.044 0.    0.007 0.946 0.   ]\n",
            " [0.    0.    0.034 0.935 0.015 0.016 0.   ]\n",
            " [0.011 0.034 0.306 0.007 0.567 0.    0.076]\n",
            " [0.    0.    0.904 0.002 0.089 0.002 0.001]]\n",
            "lr.coef_.shape, lr.intercept_.shape: ((7, 5), (7,))\n",
            "Perch Perch O\n",
            "Smelt Smelt O\n",
            "Pike Pike O\n",
            "Whitefish Roach X\n",
            "Perch Perch O\n"
          ],
          "name": "stdout"
        }
      ]
    },
    {
      "cell_type": "code",
      "metadata": {
        "colab": {
          "base_uri": "https://localhost:8080/"
        },
        "id": "aF4nAACHzAJz",
        "outputId": "fa66705c-4148-4db3-b697-0388396dd3b6"
      },
      "source": [
        "# softmax ??\n",
        "# 여러개의 선형 방정식의 출력값을 0~1 사이로 압축, 전체 합이 1이 되도록 만든다. 이를 위해 지수 함수를 사용한다. 정규화된 지수 함수라고 불리기도한다.\n",
        "decision = lr.decision_function(test_scaled[:5])\n",
        "_decision = np.round(decision, decimals=2)\n",
        "print(_decision)\n",
        "for row in _decision:\n",
        "  print(row, '다 더하면 0 나옴')\n",
        "print('로지스틱 회귀함수 생김새를 생각해보자 \\n ')\n",
        "\n",
        "\n",
        "from scipy.special import softmax\n",
        "\n",
        "proba = softmax(decision, axis=1) # axis 1 각 행마다 소프트맥스 계산, \n",
        "_proba = np.round(proba, decimals=3)\n",
        "print(_proba)\n",
        "\n",
        "for row in _proba:\n",
        "  print(row, '다 더하면 1 나옴 : ', row.sum())\n",
        "print('n개에 대해서 각각의 확률을 더하면 1이 나올수밖에 없으니까 \\n')"
      ],
      "execution_count": 124,
      "outputs": [
        {
          "output_type": "stream",
          "text": [
            "[[ -6.5    1.03   5.16  -2.73   3.34   0.33  -0.63]\n",
            " [-10.86   1.93   4.77  -2.4    2.98   7.84  -4.26]\n",
            " [ -4.34  -6.23   3.17   6.49   2.36   2.42  -3.87]\n",
            " [ -0.68   0.45   2.65  -1.19   3.26  -5.75   1.26]\n",
            " [ -6.4   -1.99   5.82  -0.11   3.5   -0.11  -0.71]]\n",
            "[-6.5   1.03  5.16 -2.73  3.34  0.33 -0.63] 다 더하면 0 나옴\n",
            "[-10.86   1.93   4.77  -2.4    2.98   7.84  -4.26] 다 더하면 0 나옴\n",
            "[-4.34 -6.23  3.17  6.49  2.36  2.42 -3.87] 다 더하면 0 나옴\n",
            "[-0.68  0.45  2.65 -1.19  3.26 -5.75  1.26] 다 더하면 0 나옴\n",
            "[-6.4  -1.99  5.82 -0.11  3.5  -0.11 -0.71] 다 더하면 0 나옴\n",
            "로지스틱 회귀함수 생김새를 생각해보자 \n",
            " \n",
            "[[0.    0.014 0.841 0.    0.136 0.007 0.003]\n",
            " [0.    0.003 0.044 0.    0.007 0.946 0.   ]\n",
            " [0.    0.    0.034 0.935 0.015 0.016 0.   ]\n",
            " [0.011 0.034 0.306 0.007 0.567 0.    0.076]\n",
            " [0.    0.    0.904 0.002 0.089 0.002 0.001]]\n",
            "[0.    0.014 0.841 0.    0.136 0.007 0.003] 다 더하면 1 나옴 :  1.001\n",
            "[0.    0.003 0.044 0.    0.007 0.946 0.   ] 다 더하면 1 나옴 :  1.0\n",
            "[0.    0.    0.034 0.935 0.015 0.016 0.   ] 다 더하면 1 나옴 :  1.0\n",
            "[0.011 0.034 0.306 0.007 0.567 0.    0.076] 다 더하면 1 나옴 :  1.001\n",
            "[0.    0.    0.904 0.002 0.089 0.002 0.001] 다 더하면 1 나옴 :  0.998\n",
            "n개에 대해서 각각의 확률을 더하면 1이 나올수밖에 없으니까 \n",
            "\n"
          ],
          "name": "stdout"
        }
      ]
    }
  ]
}