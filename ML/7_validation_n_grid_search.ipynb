{
  "nbformat": 4,
  "nbformat_minor": 0,
  "metadata": {
    "colab": {
      "name": "7_validation_n_grid_search.ipynb",
      "provenance": []
    },
    "kernelspec": {
      "name": "python3",
      "display_name": "Python 3"
    }
  },
  "cells": [
    {
      "cell_type": "markdown",
      "metadata": {
        "id": "AcmKrXiVyAHo"
      },
      "source": [
        "# 교차 검증 (cross validation)\n",
        "- 이전 결정트리에서는 depth조절을 직접해주어 테스트셋에 대해 성능향상을 유도했다. 하지만 여기서 찾아낸 depth값은 현재 가지고있는 *테스트셋*에만 최적화된 값이다. 실제 세상의 데이터는 예측불가하기 때문에 에측성능이 그대로 유지가 안될 수도 있다. \n",
        "  - 사람이 직접 설정해주는 파라미터들을 *하이퍼 파라미터*라고한다.\n",
        "- 테스트셋을 실제 세상의 데이터라고 생각하고, 학습이 완전히 끝난 후 1번만 사용해야, 학습모델이 테스트셋(실제데이터)에 대해 정확히 성능을 측정할수있다.\n",
        "\n",
        "# 검증 세트\n",
        "- 테스트\n",
        "- 모델을 훈련시키고 성능을 검증할 떄, 테스트셋을 사용하지 않으려면 어떻게해야할까? 기존 훈련셋을 또 나누면 된다. \n",
        "  - 만약 처음에 훈련셋:테스트셋=0.8:0.2 로 나누었으면 그중 0.8을 다시 훈련셋:검증셋=0.75:0.25 로 나누는것이다."
      ]
    },
    {
      "cell_type": "code",
      "metadata": {
        "colab": {
          "base_uri": "https://localhost:8080/"
        },
        "id": "hnQBzdgUur13",
        "outputId": "d9dc68e3-5b55-447c-e26d-8c6cbd628e57"
      },
      "source": [
        "import pandas as  pd\n",
        "wine = pd.read_csv('https://bit.ly/wine-date')\n",
        "data = wine[['alcohol', 'sugar', 'pH']].to_numpy()\n",
        "target = wine[['class']].to_numpy()\n",
        "print(data)\n",
        "print(target)"
      ],
      "execution_count": 4,
      "outputs": [
        {
          "output_type": "stream",
          "text": [
            "[[ 9.4   1.9   3.51]\n",
            " [ 9.8   2.6   3.2 ]\n",
            " [ 9.8   2.3   3.26]\n",
            " ...\n",
            " [ 9.4   1.2   2.99]\n",
            " [12.8   1.1   3.34]\n",
            " [11.8   0.8   3.26]]\n",
            "[[0.]\n",
            " [0.]\n",
            " [0.]\n",
            " ...\n",
            " [1.]\n",
            " [1.]\n",
            " [1.]]\n"
          ],
          "name": "stdout"
        }
      ]
    },
    {
      "cell_type": "code",
      "metadata": {
        "id": "DWswVgy229-y"
      },
      "source": [
        "from sklearn.model_selection import train_test_split\n",
        "\n",
        "# 훈련:테스트 분리 \n",
        "X_train, X_test, y_train, y_test = train_test_split(data, target, test_size=0.2, random_state=42)\n",
        "\n",
        "# 훈련:검증 분리 \n",
        "X_train2, X_valid, y_train2, y_valid = train_test_split(X_train, y_train, test_size=0.2, random_state=42)"
      ],
      "execution_count": 8,
      "outputs": []
    },
    {
      "cell_type": "code",
      "metadata": {
        "colab": {
          "base_uri": "https://localhost:8080/"
        },
        "id": "GM0DFndb34f7",
        "outputId": "970b0441-c7dd-4c38-e427-6f81e7ec9808"
      },
      "source": [
        "print(X_train.shape)\n",
        "print(X_train2.shape)\n",
        "print(X_valid.shape)\n",
        "print(X_train2.shape[0] + X_valid.shape[0] == X_train.shape[0])"
      ],
      "execution_count": 11,
      "outputs": [
        {
          "output_type": "stream",
          "text": [
            "(5197, 3)\n",
            "(4157, 3)\n",
            "(1040, 3)\n",
            "True\n"
          ],
          "name": "stdout"
        }
      ]
    },
    {
      "cell_type": "code",
      "metadata": {
        "colab": {
          "base_uri": "https://localhost:8080/"
        },
        "id": "2GMyfLRx4Mez",
        "outputId": "4b6f8bb3-5af4-4259-9a58-fb5dc4477a0b"
      },
      "source": [
        "from sklearn.tree import DecisionTreeClassifier\n",
        "\n",
        "# 훈련셋으로 결정트리 모델 훈련\n",
        "dt = DecisionTreeClassifier(random_state=42)\n",
        "dt.fit(X_train2, y_train2)\n",
        "\n",
        "print(f'훈련셋 정확도 {dt.score(X_train2, y_train2)}')\n",
        "print(f'검증셋 정확도 {dt.score(X_valid, y_valid)} \\n overfitting 되었다.')"
      ],
      "execution_count": 14,
      "outputs": [
        {
          "output_type": "stream",
          "text": [
            "훈련셋 정확도 0.9971133028626413\n",
            "검증셋 정확도 0.864423076923077\n"
          ],
          "name": "stdout"
        }
      ]
    },
    {
      "cell_type": "markdown",
      "metadata": {
        "id": "Be7JVfA143AU"
      },
      "source": [
        "- 훈련셋을 1번 더 나누니 훈련셋의 크기가 줄어들었다. 보통 모델이 훈련하는 데이터가 다양할수록 성능이 좋아진다. \n",
        "- 지금 같이 적은 데이터로 다양한 데이터를 훈련시키려는 경우 교차검증을 이용하면 된다. 교차검증은 훈련셋 일부를 검증셋으로 여러번 떼어내어 평가하는 과정을 여러번 반복한다.\n",
        "  - 데이터가 99개일 때, 3개로 분리하여 교차검증 -> K-Fold cross validation (여기에서 K는 3이다)\n",
        "    1. 33(훈련):33(훈련):33(**검증**)\n",
        "    2. 33(훈련):33(**검증**):33(훈련)\n",
        "    3. 33(**검증**):33(훈련):33(검증)\n"
      ]
    },
    {
      "cell_type": "code",
      "metadata": {
        "colab": {
          "base_uri": "https://localhost:8080/"
        },
        "id": "YxCgusK_8Ifu",
        "outputId": "14cb016f-144d-4bfb-ec6e-1e9791451aef"
      },
      "source": [
        "from sklearn.model_selection import cross_validate\n",
        "scores = cross_validate(dt, X_train, y_train)\n",
        "print(f'훈련하는 시간 배열 {scores[\"fit_time\"]}')\n",
        "print(f'검증하는 시간 배열 {scores[\"score_time\"]}')\n",
        "print(f'테스트셋 정확도2 배열 {scores[\"score_time\"]}')\n",
        "print(f'배열의 길이를 보니 K의 기본값은 5인걸 알 수 있다.')"
      ],
      "execution_count": 26,
      "outputs": [
        {
          "output_type": "stream",
          "text": [
            "훈련하는 시간 배열 [0.00835466 0.00720167 0.00749612 0.00747013 0.00732589]\n",
            "검증하는 시간 배열 [0.00076294 0.00071597 0.0007441  0.00076365 0.00073409]\n",
            "테스트셋 정확도2 배열 [0.00076294 0.00071597 0.0007441  0.00076365 0.00073409]\n"
          ],
          "name": "stdout"
        }
      ]
    },
    {
      "cell_type": "markdown",
      "metadata": {
        "id": "EJCj5HJD_u8w"
      },
      "source": [
        "- cross_valide()는 나눠주기만하고 훈련세트를 섞어주지는 않는다. 섞기위해서는 분할기를 지정해주어야한다.\n",
        "  - 회귀 모델\n",
        "    - KFold 분할기 사용\n",
        "  - 분류 모델\n",
        "    - StratifiedKFold 사용"
      ]
    },
    {
      "cell_type": "code",
      "metadata": {
        "colab": {
          "base_uri": "https://localhost:8080/"
        },
        "id": "p-RZiN6QAWbq",
        "outputId": "ddc7cb4f-29aa-4f79-dcce-7c027fc24df1"
      },
      "source": [
        "from sklearn.model_selection import StratifiedKFold\n",
        "import numpy as np \n",
        "\n",
        "scores = cross_validate(dt, X_train, y_train, cv=StratifiedKFold()) # 와인의 종류를 맞춘다 -> 분류모델 -> StratifiedKFold 사용\n",
        "print(f'5-Fold 평균성능 {np.mean(scores[\"test_score\"])}')\n",
        "scores = cross_validate(dt, X_train, y_train, cv=StratifiedKFold( n_splits=10, shuffle=True, random_state=42),) # 와인의 종류를 맞춘다 -> 분류모델 -> StratifiedKFold 사용\n",
        "print(f'10-Fold 평균성능 {np.mean(scores[\"test_score\"])}')"
      ],
      "execution_count": 30,
      "outputs": [
        {
          "output_type": "stream",
          "text": [
            "5-Fold 평균성능 0.855300214703487\n",
            "10-Fold 평균성능 0.8574181117533719\n"
          ],
          "name": "stdout"
        }
      ]
    },
    {
      "cell_type": "markdown",
      "metadata": {
        "id": "AHbvgkDoA-p7"
      },
      "source": [
        "# 하이퍼 파라미터  튜닝\n",
        "- 사람이 설정해주는 하이퍼 파라미터값의 최적값을 찾으려면 수많은 경우의 수를 테스트해봐야한다. 개발자가 직접 for문을 사용해 구현해볼수도  있지만, 사이킷런에서는 **Grid Search**라는것을 제공한다\n",
        "- Grid Search는 하이퍼 파라미터 탐색과 교차검증을 한번에 해준다."
      ]
    },
    {
      "cell_type": "code",
      "metadata": {
        "colab": {
          "base_uri": "https://localhost:8080/"
        },
        "id": "2rFvROWFB3mJ",
        "outputId": "25e45996-1d11-4181-ad8b-89fd612556aa"
      },
      "source": [
        "from sklearn.model_selection import GridSearchCV\n",
        "\n",
        "params = {'min_impurity_decrease': [0.0001, 0.0002, 0.0003, 0.0004, 0.0005]}\n",
        "# DecisionTreeClassifier에  사용할 파라미터를 5길이의 배열로 전달\n",
        "# GridSearchCV의 반복 기본값 5임\n",
        "# 5 * 5 = 25개의 모델을 만들어 내어 훈련함 -> 그중 가장 좋은 모델을 찾아 사용할것이다.\n",
        "# n_jobs는 이 훈련에 사용될 코어의 갯수르 지정해주는 파라미터 (-1은 모든 코어를 뜻함)\n",
        "gs = GridSearchCV(DecisionTreeClassifier(random_state=42), params, n_jobs=-1)\n",
        "gs.fit(X_train, y_train)\n",
        "\n",
        "dt = gs.best_estimator_\n",
        "print(dt.score(X_train, y_train))\n",
        "print(gs.best_params_)"
      ],
      "execution_count": 36,
      "outputs": [
        {
          "output_type": "stream",
          "text": [
            "0.9615162593804117\n",
            "{'min_impurity_decrease': 0.0001}\n"
          ],
          "name": "stdout"
        }
      ]
    },
    {
      "cell_type": "code",
      "metadata": {
        "colab": {
          "base_uri": "https://localhost:8080/"
        },
        "id": "wB49ayjJGFu7",
        "outputId": "79d26500-9954-49e1-d5e0-3f156ddc130c"
      },
      "source": [
        "# 가장 평균점수가 좋았던 Fold의 점수\n",
        "print(gs.cv_results_['mean_test_score'])\n",
        "\n",
        "# 파라미터를 여러개 전달하는것도 가능하며, 파라미터들의 갯수를 모두 곱한값에 * 5 만큼의 갯수의 모델을 훈련하게 된다.\n",
        "params = {'min_impurity_decrease': np.arange(0.0001, 0.001, 0.0001),\n",
        "          'max_depth': range(5, 20, 1),\n",
        "          'min_samples_split': range(2, 100, 10)\n",
        "          }\n",
        "  \n",
        "# 하지만 역시 여기서도 파라미터의 범위를 사람이 직접 입력하고 있다."
      ],
      "execution_count": 37,
      "outputs": [
        {
          "output_type": "stream",
          "text": [
            "[0.86819297 0.86453617 0.86492226 0.86780891 0.86761605]\n"
          ],
          "name": "stdout"
        }
      ]
    },
    {
      "cell_type": "markdown",
      "metadata": {
        "id": "u1GXgsqwHRXK"
      },
      "source": [
        "### 랜덤서치\n",
        "- 사람이 직접 파라미터값을 만들어서 전달하는것이 아닌, 범위만 지정해주고 값은 그 안에서 랜덤한 값들을 추출하여 전달하는것"
      ]
    },
    {
      "cell_type": "code",
      "metadata": {
        "colab": {
          "base_uri": "https://localhost:8080/"
        },
        "id": "NVpj8DCJHldN",
        "outputId": "09058b85-f71c-4824-cc77-68eb46299693"
      },
      "source": [
        "from scipy.stats import uniform, randint\n",
        "rgen = randint(0, 10) # 0 <= x < 10 정수타입 난수값 생성기\n",
        "ugen = uniform(0, 1) # 0 <= x < 1 실수타입 난수값 생성기\n",
        "\n",
        "np.unique(rgen.rvs(1000), return_counts=True)  # 1000개 생성하고 각자 몇번 나왔는지 확인\n",
        "\n",
        "params = {'min_impurity_decrease': uniform(0.0001, 0.001),\n",
        "          'max_depth': randint(20, 50),\n",
        "          'min_samples_split': randint(2, 25),\n",
        "          'min_samples_leaf': randint(1, 25),\n",
        "          }\n",
        "\n",
        "from sklearn.model_selection import RandomizedSearchCV\n",
        "\n",
        "gs = RandomizedSearchCV(DecisionTreeClassifier(random_state=42, ), params, \n",
        "                        # 총 100번만 학습\n",
        "                        n_iter=100, n_jobs=-1, random_state=42, )\n",
        "gs.fit(X_train, y_train)\n",
        "\n",
        "print(gs.best_params_)\n",
        "print(gs.best_estimator_.score(X_test, y_test))"
      ],
      "execution_count": 51,
      "outputs": [
        {
          "output_type": "stream",
          "text": [
            "{'max_depth': 39, 'min_impurity_decrease': 0.00034102546602601173, 'min_samples_leaf': 7, 'min_samples_split': 13}\n",
            "0.86\n"
          ],
          "name": "stdout"
        }
      ]
    },
    {
      "cell_type": "markdown",
      "metadata": {
        "id": "VBgEspppMvlI"
      },
      "source": [
        "- 컴퓨팅 파워가 좋아야 이런 작업들을 빨리 수행할 수 있다. 만약 이미지같은 비정형데이터를 학습시키려고한다면 지금보다 훨씬 강한 컴퓨팅파워와 시간이 필요할것이다. "
      ]
    }
  ]
}